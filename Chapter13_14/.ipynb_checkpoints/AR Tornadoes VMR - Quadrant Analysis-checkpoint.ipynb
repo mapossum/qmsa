{
 "cells": [
  {
   "cell_type": "code",
   "execution_count": 57,
   "metadata": {},
   "outputs": [
    {
     "data": {
      "text/html": [
       "<div>\n",
       "<style scoped>\n",
       "    .dataframe tbody tr th:only-of-type {\n",
       "        vertical-align: middle;\n",
       "    }\n",
       "\n",
       "    .dataframe tbody tr th {\n",
       "        vertical-align: top;\n",
       "    }\n",
       "\n",
       "    .dataframe thead th {\n",
       "        text-align: right;\n",
       "    }\n",
       "</style>\n",
       "<table border=\"1\" class=\"dataframe\">\n",
       "  <thead>\n",
       "    <tr style=\"text-align: right;\">\n",
       "      <th></th>\n",
       "      <th>OBJECTID</th>\n",
       "      <th>Join_Count</th>\n",
       "      <th>TARGET_FID</th>\n",
       "      <th>SHAPE</th>\n",
       "    </tr>\n",
       "  </thead>\n",
       "  <tbody>\n",
       "    <tr>\n",
       "      <td>0</td>\n",
       "      <td>1</td>\n",
       "      <td>1</td>\n",
       "      <td>6</td>\n",
       "      <td>{'rings': [[[407875.62799999956, 3658174.07609...</td>\n",
       "    </tr>\n",
       "    <tr>\n",
       "      <td>1</td>\n",
       "      <td>2</td>\n",
       "      <td>0</td>\n",
       "      <td>7</td>\n",
       "      <td>{'rings': [[[417181.6765999999, 3652801.226399...</td>\n",
       "    </tr>\n",
       "    <tr>\n",
       "      <td>2</td>\n",
       "      <td>3</td>\n",
       "      <td>0</td>\n",
       "      <td>8</td>\n",
       "      <td>{'rings': [[[426487.7252000002, 3658174.076099...</td>\n",
       "    </tr>\n",
       "    <tr>\n",
       "      <td>3</td>\n",
       "      <td>4</td>\n",
       "      <td>0</td>\n",
       "      <td>9</td>\n",
       "      <td>{'rings': [[[435793.7737999996, 3652801.226399...</td>\n",
       "    </tr>\n",
       "    <tr>\n",
       "      <td>4</td>\n",
       "      <td>5</td>\n",
       "      <td>0</td>\n",
       "      <td>10</td>\n",
       "      <td>{'rings': [[[445099.82239999995, 3658174.07609...</td>\n",
       "    </tr>\n",
       "    <tr>\n",
       "      <td>...</td>\n",
       "      <td>...</td>\n",
       "      <td>...</td>\n",
       "      <td>...</td>\n",
       "      <td>...</td>\n",
       "    </tr>\n",
       "    <tr>\n",
       "      <td>1464</td>\n",
       "      <td>1465</td>\n",
       "      <td>0</td>\n",
       "      <td>1804</td>\n",
       "      <td>{'rings': [[[724281.2801000001, 4045019.251499...</td>\n",
       "    </tr>\n",
       "    <tr>\n",
       "      <td>1465</td>\n",
       "      <td>1466</td>\n",
       "      <td>0</td>\n",
       "      <td>1805</td>\n",
       "      <td>{'rings': [[[733587.3287000004, 4039646.401900...</td>\n",
       "    </tr>\n",
       "    <tr>\n",
       "      <td>1466</td>\n",
       "      <td>1467</td>\n",
       "      <td>0</td>\n",
       "      <td>1806</td>\n",
       "      <td>{'rings': [[[742893.3772999998, 4045019.251499...</td>\n",
       "    </tr>\n",
       "    <tr>\n",
       "      <td>1467</td>\n",
       "      <td>1468</td>\n",
       "      <td>0</td>\n",
       "      <td>1807</td>\n",
       "      <td>{'rings': [[[752199.4259000001, 4039646.401900...</td>\n",
       "    </tr>\n",
       "    <tr>\n",
       "      <td>1468</td>\n",
       "      <td>1469</td>\n",
       "      <td>0</td>\n",
       "      <td>1808</td>\n",
       "      <td>{'rings': [[[761505.4744999995, 4045019.251499...</td>\n",
       "    </tr>\n",
       "  </tbody>\n",
       "</table>\n",
       "<p>1469 rows × 4 columns</p>\n",
       "</div>"
      ],
      "text/plain": [
       "      OBJECTID  Join_Count  TARGET_FID  \\\n",
       "0            1           1           6   \n",
       "1            2           0           7   \n",
       "2            3           0           8   \n",
       "3            4           0           9   \n",
       "4            5           0          10   \n",
       "...        ...         ...         ...   \n",
       "1464      1465           0        1804   \n",
       "1465      1466           0        1805   \n",
       "1466      1467           0        1806   \n",
       "1467      1468           0        1807   \n",
       "1468      1469           0        1808   \n",
       "\n",
       "                                                  SHAPE  \n",
       "0     {'rings': [[[407875.62799999956, 3658174.07609...  \n",
       "1     {'rings': [[[417181.6765999999, 3652801.226399...  \n",
       "2     {'rings': [[[426487.7252000002, 3658174.076099...  \n",
       "3     {'rings': [[[435793.7737999996, 3652801.226399...  \n",
       "4     {'rings': [[[445099.82239999995, 3658174.07609...  \n",
       "...                                                 ...  \n",
       "1464  {'rings': [[[724281.2801000001, 4045019.251499...  \n",
       "1465  {'rings': [[[733587.3287000004, 4039646.401900...  \n",
       "1466  {'rings': [[[742893.3772999998, 4045019.251499...  \n",
       "1467  {'rings': [[[752199.4259000001, 4039646.401900...  \n",
       "1468  {'rings': [[[761505.4744999995, 4045019.251499...  \n",
       "\n",
       "[1469 rows x 4 columns]"
      ]
     },
     "execution_count": 57,
     "metadata": {},
     "output_type": "execute_result"
    }
   ],
   "source": [
    "import pandas as pd\n",
    "import numpy as np\n",
    "from arcgis.features import GeoAccessor, GeoSeriesAccessor\n",
    "import matplotlib.pyplot as plt\n",
    "from scipy import stats\n",
    "\n",
    "sdf = pd.DataFrame.spatial.from_featureclass(\"Chapter13_14.gdb\\AR_Proper_Hexagons_SpatialJoin\")\n",
    "sdf "
   ]
  },
  {
   "cell_type": "code",
   "execution_count": 59,
   "metadata": {},
   "outputs": [
    {
     "data": {
      "text/plain": [
       "1.1973952955197809"
      ]
     },
     "execution_count": 59,
     "metadata": {},
     "output_type": "execute_result"
    }
   ],
   "source": [
    "VMR = sdf[\"Join_Count\"].var() / sdf[\"Join_Count\"].mean()\n",
    "VMR"
   ]
  },
  {
   "cell_type": "code",
   "execution_count": 60,
   "metadata": {},
   "outputs": [
    {
     "data": {
      "text/plain": [
       "1757.7762938230383"
      ]
     },
     "execution_count": 60,
     "metadata": {},
     "output_type": "execute_result"
    }
   ],
   "source": [
    "df = (sdf[\"Join_Count\"].count() - 1)\n",
    "chiSQ = VMR * df\n",
    "chiSQ"
   ]
  },
  {
   "cell_type": "code",
   "execution_count": 61,
   "metadata": {},
   "outputs": [
    {
     "data": {
      "text/plain": [
       "2.281573795448466e-07"
      ]
     },
     "execution_count": 61,
     "metadata": {},
     "output_type": "execute_result"
    }
   ],
   "source": [
    "pvalue = 1 - stats.chi2.cdf(chiSQ, df, loc=0, scale=1)\n",
    "pvalue"
   ]
  },
  {
   "cell_type": "code",
   "execution_count": null,
   "metadata": {},
   "outputs": [],
   "source": []
  }
 ],
 "metadata": {
  "kernelspec": {
   "display_name": "Python 3",
   "language": "python",
   "name": "python3"
  },
  "language_info": {
   "codemirror_mode": {
    "name": "ipython",
    "version": 3
   },
   "file_extension": ".py",
   "mimetype": "text/x-python",
   "name": "python",
   "nbconvert_exporter": "python",
   "pygments_lexer": "ipython3",
   "version": "3.6.9"
  }
 },
 "nbformat": 4,
 "nbformat_minor": 2
}
