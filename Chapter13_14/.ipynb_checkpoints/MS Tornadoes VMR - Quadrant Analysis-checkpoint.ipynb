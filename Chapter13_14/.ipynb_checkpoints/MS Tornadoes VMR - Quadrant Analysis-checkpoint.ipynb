{
 "cells": [
  {
   "cell_type": "code",
   "execution_count": 45,
   "metadata": {},
   "outputs": [
    {
     "data": {
      "text/html": [
       "<div>\n",
       "<style scoped>\n",
       "    .dataframe tbody tr th:only-of-type {\n",
       "        vertical-align: middle;\n",
       "    }\n",
       "\n",
       "    .dataframe tbody tr th {\n",
       "        vertical-align: top;\n",
       "    }\n",
       "\n",
       "    .dataframe thead th {\n",
       "        text-align: right;\n",
       "    }\n",
       "</style>\n",
       "<table border=\"1\" class=\"dataframe\">\n",
       "  <thead>\n",
       "    <tr style=\"text-align: right;\">\n",
       "      <th></th>\n",
       "      <th>OBJECTID</th>\n",
       "      <th>Join_Count</th>\n",
       "      <th>TARGET_FID</th>\n",
       "      <th>SHAPE</th>\n",
       "    </tr>\n",
       "  </thead>\n",
       "  <tbody>\n",
       "    <tr>\n",
       "      <td>0</td>\n",
       "      <td>1</td>\n",
       "      <td>0</td>\n",
       "      <td>22</td>\n",
       "      <td>{'rings': [[[521305.3557000002, 1049852.641599...</td>\n",
       "    </tr>\n",
       "    <tr>\n",
       "      <td>1</td>\n",
       "      <td>2</td>\n",
       "      <td>0</td>\n",
       "      <td>23</td>\n",
       "      <td>{'rings': [[[530611.4042999996, 1044479.791899...</td>\n",
       "    </tr>\n",
       "    <tr>\n",
       "      <td>2</td>\n",
       "      <td>3</td>\n",
       "      <td>0</td>\n",
       "      <td>24</td>\n",
       "      <td>{'rings': [[[539917.4528999999, 1049852.641599...</td>\n",
       "    </tr>\n",
       "    <tr>\n",
       "      <td>3</td>\n",
       "      <td>4</td>\n",
       "      <td>0</td>\n",
       "      <td>58</td>\n",
       "      <td>{'rings': [[[511999.30709999986, 1055225.4912]...</td>\n",
       "    </tr>\n",
       "    <tr>\n",
       "      <td>4</td>\n",
       "      <td>5</td>\n",
       "      <td>0</td>\n",
       "      <td>59</td>\n",
       "      <td>{'rings': [[[521305.3557000002, 1060598.340900...</td>\n",
       "    </tr>\n",
       "    <tr>\n",
       "      <td>...</td>\n",
       "      <td>...</td>\n",
       "      <td>...</td>\n",
       "      <td>...</td>\n",
       "      <td>...</td>\n",
       "    </tr>\n",
       "    <tr>\n",
       "      <td>1344</td>\n",
       "      <td>1345</td>\n",
       "      <td>0</td>\n",
       "      <td>1877</td>\n",
       "      <td>{'rings': [[[567835.5987, 1581764.7577999998],...</td>\n",
       "    </tr>\n",
       "    <tr>\n",
       "      <td>1345</td>\n",
       "      <td>1346</td>\n",
       "      <td>0</td>\n",
       "      <td>1879</td>\n",
       "      <td>{'rings': [[[586447.6957999999, 1581764.757799...</td>\n",
       "    </tr>\n",
       "    <tr>\n",
       "      <td>1346</td>\n",
       "      <td>1347</td>\n",
       "      <td>0</td>\n",
       "      <td>1881</td>\n",
       "      <td>{'rings': [[[605059.7929999996, 1581764.757799...</td>\n",
       "    </tr>\n",
       "    <tr>\n",
       "      <td>1347</td>\n",
       "      <td>1348</td>\n",
       "      <td>0</td>\n",
       "      <td>1883</td>\n",
       "      <td>{'rings': [[[623671.8902000003, 1581764.757799...</td>\n",
       "    </tr>\n",
       "    <tr>\n",
       "      <td>1348</td>\n",
       "      <td>1349</td>\n",
       "      <td>0</td>\n",
       "      <td>1885</td>\n",
       "      <td>{'rings': [[[642283.9874, 1581764.7577999998],...</td>\n",
       "    </tr>\n",
       "  </tbody>\n",
       "</table>\n",
       "<p>1349 rows × 4 columns</p>\n",
       "</div>"
      ],
      "text/plain": [
       "      OBJECTID  Join_Count  TARGET_FID  \\\n",
       "0            1           0          22   \n",
       "1            2           0          23   \n",
       "2            3           0          24   \n",
       "3            4           0          58   \n",
       "4            5           0          59   \n",
       "...        ...         ...         ...   \n",
       "1344      1345           0        1877   \n",
       "1345      1346           0        1879   \n",
       "1346      1347           0        1881   \n",
       "1347      1348           0        1883   \n",
       "1348      1349           0        1885   \n",
       "\n",
       "                                                  SHAPE  \n",
       "0     {'rings': [[[521305.3557000002, 1049852.641599...  \n",
       "1     {'rings': [[[530611.4042999996, 1044479.791899...  \n",
       "2     {'rings': [[[539917.4528999999, 1049852.641599...  \n",
       "3     {'rings': [[[511999.30709999986, 1055225.4912]...  \n",
       "4     {'rings': [[[521305.3557000002, 1060598.340900...  \n",
       "...                                                 ...  \n",
       "1344  {'rings': [[[567835.5987, 1581764.7577999998],...  \n",
       "1345  {'rings': [[[586447.6957999999, 1581764.757799...  \n",
       "1346  {'rings': [[[605059.7929999996, 1581764.757799...  \n",
       "1347  {'rings': [[[623671.8902000003, 1581764.757799...  \n",
       "1348  {'rings': [[[642283.9874, 1581764.7577999998],...  \n",
       "\n",
       "[1349 rows x 4 columns]"
      ]
     },
     "execution_count": 45,
     "metadata": {},
     "output_type": "execute_result"
    }
   ],
   "source": [
    "import pandas as pd\n",
    "import numpy as np\n",
    "from arcgis.features import GeoAccessor, GeoSeriesAccessor\n",
    "import matplotlib.pyplot as plt\n",
    "from scipy import stats\n",
    "\n",
    "sdf = pd.DataFrame.spatial.from_featureclass(\"Chapter13_14.gdb\\MS_Proper_Hexagons_SpatialJoin\")\n",
    "sdf "
   ]
  },
  {
   "cell_type": "code",
   "execution_count": 46,
   "metadata": {},
   "outputs": [
    {
     "data": {
      "text/plain": [
       "1.0450117671134762"
      ]
     },
     "execution_count": 46,
     "metadata": {},
     "output_type": "execute_result"
    }
   ],
   "source": [
    "VMR = sdf[\"Join_Count\"].var() / sdf[\"Join_Count\"].mean()\n",
    "VMR"
   ]
  },
  {
   "cell_type": "code",
   "execution_count": 47,
   "metadata": {},
   "outputs": [
    {
     "data": {
      "text/plain": [
       "1408.675862068966"
      ]
     },
     "execution_count": 47,
     "metadata": {},
     "output_type": "execute_result"
    }
   ],
   "source": [
    "df = (sdf[\"Join_Count\"].count() - 1)\n",
    "chiSQ = VMR * df\n",
    "chiSQ"
   ]
  },
  {
   "cell_type": "code",
   "execution_count": 48,
   "metadata": {},
   "outputs": [
    {
     "data": {
      "text/plain": [
       "0.12215544612346463"
      ]
     },
     "execution_count": 48,
     "metadata": {},
     "output_type": "execute_result"
    }
   ],
   "source": [
    "pvalue = 1 - stats.chi2.cdf(chiSQ, df)\n",
    "pvalue"
   ]
  },
  {
   "cell_type": "code",
   "execution_count": null,
   "metadata": {},
   "outputs": [],
   "source": []
  }
 ],
 "metadata": {
  "kernelspec": {
   "display_name": "Python 3",
   "language": "python",
   "name": "python3"
  },
  "language_info": {
   "codemirror_mode": {
    "name": "ipython",
    "version": 3
   },
   "file_extension": ".py",
   "mimetype": "text/x-python",
   "name": "python",
   "nbconvert_exporter": "python",
   "pygments_lexer": "ipython3",
   "version": "3.6.9"
  }
 },
 "nbformat": 4,
 "nbformat_minor": 2
}
