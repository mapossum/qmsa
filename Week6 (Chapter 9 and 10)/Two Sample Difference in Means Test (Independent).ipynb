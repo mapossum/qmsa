{
 "cells": [
  {
   "cell_type": "code",
   "execution_count": 4,
   "metadata": {},
   "outputs": [
    {
     "data": {
      "text/plain": [
       "Ttest_indResult(statistic=-0.2117252611449484, pvalue=0.8356046299871862)"
      ]
     },
     "execution_count": 4,
     "metadata": {},
     "output_type": "execute_result"
    }
   ],
   "source": [
    "from scipy import stats\n",
    "import numpy as np\n",
    "\n",
    "#This one requires two samples datasets and you are comparing them.  \n",
    "#The null hypothosis is that both samples are drawn from the same population\n",
    "#There is an option on this test to specifiy if the variance's of each are the same\n",
    "#This is called \"pooled\" if they are assummed not equal it is called \"unpooled\"\n",
    "\n",
    "a = [1,2,3,1,2,3]\n",
    "b = [1,2,4,1,2,3,1,2,3]\n",
    "stats.ttest_ind(a,b, equal_var=True)"
   ]
  },
  {
   "cell_type": "code",
   "execution_count": 5,
   "metadata": {},
   "outputs": [
    {
     "data": {
      "text/plain": [
       "Ttest_indResult(statistic=-0.21926450482675738, pvalue=0.8301065116228219)"
      ]
     },
     "execution_count": 5,
     "metadata": {},
     "output_type": "execute_result"
    }
   ],
   "source": [
    "stats.ttest_ind(a,b, equal_var=False)"
   ]
  },
  {
   "cell_type": "code",
   "execution_count": 8,
   "metadata": {},
   "outputs": [
    {
     "data": {
      "text/html": [
       "<div>\n",
       "<style scoped>\n",
       "    .dataframe tbody tr th:only-of-type {\n",
       "        vertical-align: middle;\n",
       "    }\n",
       "\n",
       "    .dataframe tbody tr th {\n",
       "        vertical-align: top;\n",
       "    }\n",
       "\n",
       "    .dataframe thead th {\n",
       "        text-align: right;\n",
       "    }\n",
       "</style>\n",
       "<table border=\"1\" class=\"dataframe\">\n",
       "  <thead>\n",
       "    <tr style=\"text-align: right;\">\n",
       "      <th></th>\n",
       "      <th>_Meter_ID</th>\n",
       "      <th>Total Water Use (No Pool)</th>\n",
       "      <th>_Meter_ID.1</th>\n",
       "      <th>Total Water Use (Pool)</th>\n",
       "    </tr>\n",
       "  </thead>\n",
       "  <tbody>\n",
       "    <tr>\n",
       "      <th>0</th>\n",
       "      <td>83342852</td>\n",
       "      <td>77</td>\n",
       "      <td>83214832</td>\n",
       "      <td>32</td>\n",
       "    </tr>\n",
       "    <tr>\n",
       "      <th>1</th>\n",
       "      <td>83323290</td>\n",
       "      <td>23</td>\n",
       "      <td>83362121</td>\n",
       "      <td>48</td>\n",
       "    </tr>\n",
       "    <tr>\n",
       "      <th>2</th>\n",
       "      <td>74423965</td>\n",
       "      <td>74</td>\n",
       "      <td>83626307</td>\n",
       "      <td>73</td>\n",
       "    </tr>\n",
       "    <tr>\n",
       "      <th>3</th>\n",
       "      <td>83362264</td>\n",
       "      <td>25</td>\n",
       "      <td>83186589</td>\n",
       "      <td>62</td>\n",
       "    </tr>\n",
       "    <tr>\n",
       "      <th>4</th>\n",
       "      <td>51012015</td>\n",
       "      <td>67</td>\n",
       "      <td>83626366</td>\n",
       "      <td>84</td>\n",
       "    </tr>\n",
       "  </tbody>\n",
       "</table>\n",
       "</div>"
      ],
      "text/plain": [
       "  _Meter_ID  Total Water Use (No Pool) _Meter_ID.1  Total Water Use (Pool)\n",
       "0  83342852                         77    83214832                      32\n",
       "1  83323290                         23    83362121                      48\n",
       "2  74423965                         74    83626307                      73\n",
       "3  83362264                         25    83186589                      62\n",
       "4  51012015                         67    83626366                      84"
      ]
     },
     "execution_count": 8,
     "metadata": {},
     "output_type": "execute_result"
    }
   ],
   "source": [
    "#using Worksheet Data \n",
    "#get data from Pandas Columns\n",
    "from scipy import stats\n",
    "import numpy as np\n",
    "import pandas as pd\n",
    "table = pd.read_excel('../data/workbook-data-v2.xlsx', sheet_name=\"Chapter 10 - Water Use\") \n",
    "table.head()"
   ]
  },
  {
   "cell_type": "code",
   "execution_count": 9,
   "metadata": {},
   "outputs": [
    {
     "data": {
      "text/plain": [
       "Ttest_indResult(statistic=-2.1615122899263683, pvalue=0.03496260101735393)"
      ]
     },
     "execution_count": 9,
     "metadata": {},
     "output_type": "execute_result"
    }
   ],
   "source": [
    "a = table[\"Total Water Use (No Pool)\"]\n",
    "b = table[\"Total Water Use (Pool)\"]\n",
    "stats.ttest_ind(a,b, equal_var=False)"
   ]
  }
 ],
 "metadata": {
  "kernelspec": {
   "display_name": "Python 3",
   "language": "python",
   "name": "python3"
  },
  "language_info": {
   "codemirror_mode": {
    "name": "ipython",
    "version": 3
   },
   "file_extension": ".py",
   "mimetype": "text/x-python",
   "name": "python",
   "nbconvert_exporter": "python",
   "pygments_lexer": "ipython3",
   "version": "3.6.8"
  }
 },
 "nbformat": 4,
 "nbformat_minor": 4
}
