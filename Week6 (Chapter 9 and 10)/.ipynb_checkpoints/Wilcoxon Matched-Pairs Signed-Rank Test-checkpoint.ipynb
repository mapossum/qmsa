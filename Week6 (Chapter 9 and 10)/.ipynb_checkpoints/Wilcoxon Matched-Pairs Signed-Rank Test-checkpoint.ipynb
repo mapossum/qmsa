{
 "cells": [
  {
   "cell_type": "code",
   "execution_count": 3,
   "metadata": {},
   "outputs": [
    {
     "data": {
      "text/plain": [
       "WilcoxonResult(statistic=1.0, pvalue=0.6547208460185769)"
      ]
     },
     "execution_count": 3,
     "metadata": {},
     "output_type": "execute_result"
    }
   ],
   "source": [
    "from scipy import stats\n",
    "import numpy as np\n",
    "\n",
    "#This one requires a single sample, but two different measures (e.g. before and after).  \n",
    "#It is the non-parametric version of the Matched Pair in Difference in Means Test (Dependent)\n",
    "\n",
    "a = [1.2,1.4,3.1]\n",
    "b = [1.2,2.5,2.9]\n",
    "stats.wilcoxon(a,b)"
   ]
  },
  {
   "cell_type": "code",
   "execution_count": null,
   "metadata": {},
   "outputs": [],
   "source": []
  }
 ],
 "metadata": {
  "kernelspec": {
   "display_name": "Python 3",
   "language": "python",
   "name": "python3"
  },
  "language_info": {
   "codemirror_mode": {
    "name": "ipython",
    "version": 3
   },
   "file_extension": ".py",
   "mimetype": "text/x-python",
   "name": "python",
   "nbconvert_exporter": "python",
   "pygments_lexer": "ipython3",
   "version": "3.6.8"
  }
 },
 "nbformat": 4,
 "nbformat_minor": 4
}
