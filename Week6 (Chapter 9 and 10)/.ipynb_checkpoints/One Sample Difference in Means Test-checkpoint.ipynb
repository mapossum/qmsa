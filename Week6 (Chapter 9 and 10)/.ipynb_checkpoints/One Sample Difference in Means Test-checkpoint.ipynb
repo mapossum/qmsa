{
 "cells": [
  {
   "cell_type": "code",
   "execution_count": 16,
   "metadata": {},
   "outputs": [
    {
     "data": {
      "text/plain": [
       "Ttest_1sampResult(statistic=-0.5040833264451419, pvalue=0.6220423778488138)"
      ]
     },
     "execution_count": 16,
     "metadata": {},
     "output_type": "execute_result"
    }
   ],
   "source": [
    "from scipy import stats\n",
    "import numpy as np\n",
    "\n",
    "#This one is really easy in Excel, but here it is in Python as well.\n",
    "#Python does do all the calcuations for you, so it assums you have the data\n",
    "#It does not work if you only have the statistics.\n",
    "\n",
    "a = [1,2,3,1,2,3,1,2,3,1,2,3,1,2,3]\n",
    "stats.ttest_1samp(a,2.11)"
   ]
  }
 ],
 "metadata": {
  "kernelspec": {
   "display_name": "Python 3",
   "language": "python",
   "name": "python3"
  },
  "language_info": {
   "codemirror_mode": {
    "name": "ipython",
    "version": 3
   },
   "file_extension": ".py",
   "mimetype": "text/x-python",
   "name": "python",
   "nbconvert_exporter": "python",
   "pygments_lexer": "ipython3",
   "version": "3.6.8"
  }
 },
 "nbformat": 4,
 "nbformat_minor": 4
}
