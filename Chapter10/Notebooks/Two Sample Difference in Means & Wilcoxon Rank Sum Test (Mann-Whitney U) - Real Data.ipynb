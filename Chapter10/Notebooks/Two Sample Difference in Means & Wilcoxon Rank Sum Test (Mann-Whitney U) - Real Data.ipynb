{
 "cells": [
  {
   "cell_type": "code",
   "execution_count": 14,
   "metadata": {},
   "outputs": [
    {
     "name": "stderr",
     "output_type": "stream",
     "text": [
      "__main__:9: UserWarning: Boolean Series key will be reindexed to match DataFrame index.\n"
     ]
    },
    {
     "data": {
      "text/html": [
       "<div>\n",
       "<style scoped>\n",
       "    .dataframe tbody tr th:only-of-type {\n",
       "        vertical-align: middle;\n",
       "    }\n",
       "\n",
       "    .dataframe tbody tr th {\n",
       "        vertical-align: top;\n",
       "    }\n",
       "\n",
       "    .dataframe thead th {\n",
       "        text-align: right;\n",
       "    }\n",
       "</style>\n",
       "<table border=\"1\" class=\"dataframe\">\n",
       "  <thead>\n",
       "    <tr style=\"text-align: right;\">\n",
       "      <th></th>\n",
       "      <th>name</th>\n",
       "      <th>HDI_2010</th>\n",
       "      <th>Y2009</th>\n",
       "      <th>HDI_CAT</th>\n",
       "    </tr>\n",
       "  </thead>\n",
       "  <tbody>\n",
       "    <tr>\n",
       "      <td>1</td>\n",
       "      <td>Afghanistan</td>\n",
       "      <td>0.453</td>\n",
       "      <td>47.898854</td>\n",
       "      <td>2</td>\n",
       "    </tr>\n",
       "    <tr>\n",
       "      <td>2</td>\n",
       "      <td>Angola</td>\n",
       "      <td>0.504</td>\n",
       "      <td>50.251024</td>\n",
       "      <td>2</td>\n",
       "    </tr>\n",
       "    <tr>\n",
       "      <td>4</td>\n",
       "      <td>Albania</td>\n",
       "      <td>0.708</td>\n",
       "      <td>76.761098</td>\n",
       "      <td>1</td>\n",
       "    </tr>\n",
       "    <tr>\n",
       "      <td>7</td>\n",
       "      <td>United Arab Emirates</td>\n",
       "      <td>0.824</td>\n",
       "      <td>76.399561</td>\n",
       "      <td>1</td>\n",
       "    </tr>\n",
       "    <tr>\n",
       "      <td>8</td>\n",
       "      <td>Argentina</td>\n",
       "      <td>0.799</td>\n",
       "      <td>75.464098</td>\n",
       "      <td>1</td>\n",
       "    </tr>\n",
       "    <tr>\n",
       "      <td>...</td>\n",
       "      <td>...</td>\n",
       "      <td>...</td>\n",
       "      <td>...</td>\n",
       "      <td>...</td>\n",
       "    </tr>\n",
       "    <tr>\n",
       "      <td>234</td>\n",
       "      <td>Samoa</td>\n",
       "      <td>0.688</td>\n",
       "      <td>72.063561</td>\n",
       "      <td>1</td>\n",
       "    </tr>\n",
       "    <tr>\n",
       "      <td>235</td>\n",
       "      <td>Yemen</td>\n",
       "      <td>0.484</td>\n",
       "      <td>64.593756</td>\n",
       "      <td>2</td>\n",
       "    </tr>\n",
       "    <tr>\n",
       "      <td>236</td>\n",
       "      <td>South Africa</td>\n",
       "      <td>0.638</td>\n",
       "      <td>51.611317</td>\n",
       "      <td>1</td>\n",
       "    </tr>\n",
       "    <tr>\n",
       "      <td>237</td>\n",
       "      <td>Zambia</td>\n",
       "      <td>0.530</td>\n",
       "      <td>47.814537</td>\n",
       "      <td>2</td>\n",
       "    </tr>\n",
       "    <tr>\n",
       "      <td>238</td>\n",
       "      <td>Zimbabwe</td>\n",
       "      <td>0.459</td>\n",
       "      <td>48.450488</td>\n",
       "      <td>2</td>\n",
       "    </tr>\n",
       "  </tbody>\n",
       "</table>\n",
       "<p>177 rows × 4 columns</p>\n",
       "</div>"
      ],
      "text/plain": [
       "                     name  HDI_2010      Y2009  HDI_CAT\n",
       "1             Afghanistan     0.453  47.898854        2\n",
       "2                  Angola     0.504  50.251024        2\n",
       "4                 Albania     0.708  76.761098        1\n",
       "7    United Arab Emirates     0.824  76.399561        1\n",
       "8               Argentina     0.799  75.464098        1\n",
       "..                    ...       ...        ...      ...\n",
       "234                 Samoa     0.688  72.063561        1\n",
       "235                 Yemen     0.484  64.593756        2\n",
       "236          South Africa     0.638  51.611317        1\n",
       "237                Zambia     0.530  47.814537        2\n",
       "238              Zimbabwe     0.459  48.450488        2\n",
       "\n",
       "[177 rows x 4 columns]"
      ]
     },
     "execution_count": 14,
     "metadata": {},
     "output_type": "execute_result"
    }
   ],
   "source": [
    "import pandas as pd\n",
    "import numpy as np\n",
    "from arcgis.features import GeoAccessor, GeoSeriesAccessor\n",
    "import matplotlib.pyplot as plt\n",
    "\n",
    "columns = ['name', 'HDI_2010', 'Y2009']\n",
    "sdf = pd.DataFrame.spatial.from_featureclass(\"Chapter10.gdb\\HDI_Female_Labor_Force\")\n",
    "sdf = sdf[columns] \n",
    "sdf = sdf.dropna()[sdf[\"Y2009\"]!=0]\n",
    "sdf[\"HDI_CAT\"] = np.where(np.floor(sdf[\"HDI_2010\"] + 0.4) == True, 1,2)\n",
    "sdf"
   ]
  },
  {
   "cell_type": "code",
   "execution_count": 15,
   "metadata": {},
   "outputs": [],
   "source": [
    "ax1 = sdf.plot.scatter(x='HDI_2010',y='Y2009',c='HDI_CAT', colormap='Set1')\n",
    "plt.show()"
   ]
  },
  {
   "cell_type": "code",
   "execution_count": 16,
   "metadata": {},
   "outputs": [],
   "source": [
    "df = sdf[[\"Y2009\", \"HDI_CAT\"]]\n",
    "boxplot = df.boxplot(by='HDI_CAT')\n",
    "plt.show()"
   ]
  },
  {
   "cell_type": "code",
   "execution_count": 17,
   "metadata": {},
   "outputs": [
    {
     "data": {
      "text/plain": [
       "Ttest_indResult(statistic=16.338877876580494, pvalue=1.0537875903941455e-27)"
      ]
     },
     "execution_count": 17,
     "metadata": {},
     "output_type": "execute_result"
    }
   ],
   "source": [
    "from scipy import stats\n",
    "import numpy as np\n",
    "\n",
    "#This one requires two samples.  It is the Two Sample Difference in Means Test (Independent)\n",
    "\n",
    "a = df[df[\"HDI_CAT\"] == 1][\"Y2009\"]\n",
    "b = df[df[\"HDI_CAT\"] == 2][\"Y2009\"]\n",
    "stats.ttest_ind(a,b, equal_var=False)"
   ]
  },
  {
   "cell_type": "code",
   "execution_count": 18,
   "metadata": {},
   "outputs": [
    {
     "data": {
      "text/plain": [
       "MannwhitneyuResult(statistic=6402.0, pvalue=1.895551891728862e-23)"
      ]
     },
     "execution_count": 18,
     "metadata": {},
     "output_type": "execute_result"
    }
   ],
   "source": [
    "#This one requires two samples.  It compares the ranks of the values in the samples.  \n",
    "#It is the non-parametric version of the Two Sample Difference in Means Test (Independent)\n",
    "\n",
    "stats.mannwhitneyu(a,b, alternative=\"two-sided\")"
   ]
  }
 ],
 "metadata": {
  "kernelspec": {
   "display_name": "Python 3",
   "language": "python",
   "name": "python3"
  },
  "language_info": {
   "codemirror_mode": {
    "name": "ipython",
    "version": 3
   },
   "file_extension": ".py",
   "mimetype": "text/x-python",
   "name": "python",
   "nbconvert_exporter": "python",
   "pygments_lexer": "ipython3",
   "version": "3.6.9"
  }
 },
 "nbformat": 4,
 "nbformat_minor": 2
}
