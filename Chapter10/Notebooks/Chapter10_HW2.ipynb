{
 "cells": [
  {
   "cell_type": "code",
   "execution_count": 28,
   "metadata": {},
   "outputs": [
    {
     "name": "stdout",
     "output_type": "stream",
     "text": [
      "City Proportion 0.7263157894736842\n",
      "County Proportion 0.5619047619047619\n",
      "The value of the test statistic is: 5.851434140907829\n",
      "The two tailed p-value is: 0.01556436212924057\n"
     ]
    }
   ],
   "source": [
    "from scipy import stats\n",
    "import numpy as np\n",
    "\n",
    "#This test requires that you have a table that looks like this:\n",
    "# Sample 1  #of Successes #of Failures\n",
    "# Sample 2  #of Successes #of Failures\n",
    "\n",
    "#Following example 10.5 from the book, the numbers are given like this:\n",
    "# Sample 1 #of Successes(obesity) #Total number\n",
    "# Sample 2 #of Successes(obesity) #Total number\n",
    "\n",
    "#Also unlike the book, this example uses a different test, which we will learn about later\n",
    "#However the P-value for this test is exactly the same as it would be doing the book math.\n",
    "\n",
    "sample1 = 69\n",
    "sample2 = 59\n",
    "total1 = 95\n",
    "total2 = 105\n",
    "sample1table = sample1, total1 - sample1\n",
    "sample2table = sample2, total2 - sample2\n",
    "\n",
    "testTable = np.array([sample1table, sample2table])\n",
    "\n",
    "output = stats.chi2_contingency(testTable, correction=False)\n",
    "\n",
    "print(\"City Proportion\", sample1/total1)\n",
    "print(\"County Proportion\", sample2/total2)\n",
    "\n",
    "print(\"The value of the test statistic is: {0}\".format(output[0]))\n",
    "print(\"The two tailed p-value is: {0}\".format(output[1]))"
   ]
  },
  {
   "cell_type": "code",
   "execution_count": null,
   "metadata": {},
   "outputs": [],
   "source": []
  }
 ],
 "metadata": {
  "kernelspec": {
   "display_name": "ArcGISPro",
   "language": "Python",
   "name": "python3"
  },
  "language_info": {
   "file_extension": ".py",
   "name": "python",
   "version": "3"
  }
 },
 "nbformat": 4,
 "nbformat_minor": 2
}
