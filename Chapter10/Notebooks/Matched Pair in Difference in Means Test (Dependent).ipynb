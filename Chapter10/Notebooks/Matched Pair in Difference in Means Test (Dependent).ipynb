{
 "cells": [
  {
   "cell_type": "code",
   "execution_count": 12,
   "metadata": {},
   "outputs": [
    {
     "data": {
      "text/plain": [
       "Ttest_relResult(statistic=-1.5811388300841893, pvalue=0.17468781426411936)"
      ]
     },
     "execution_count": 12,
     "metadata": {},
     "output_type": "execute_result"
    }
   ],
   "source": [
    "from scipy import stats\n",
    "import numpy as np\n",
    "\n",
    "#This one requires a single sample, but two different measures (e.g. before and after).  \n",
    "#The null hypothosis is that there is no difference between the two measures\n",
    "\n",
    "a = [1,2,3,1,2,3]\n",
    "b = [1,2,4,1,2,4]\n",
    "stats.ttest_rel(a,b)"
   ]
  },
  {
   "cell_type": "code",
   "execution_count": null,
   "metadata": {},
   "outputs": [],
   "source": []
  }
 ],
 "metadata": {
  "kernelspec": {
   "display_name": "ArcGISPro",
   "language": "Python",
   "name": "python3"
  },
  "language_info": {
   "file_extension": ".py",
   "name": "python",
   "version": "3"
  }
 },
 "nbformat": 4,
 "nbformat_minor": 4
}
