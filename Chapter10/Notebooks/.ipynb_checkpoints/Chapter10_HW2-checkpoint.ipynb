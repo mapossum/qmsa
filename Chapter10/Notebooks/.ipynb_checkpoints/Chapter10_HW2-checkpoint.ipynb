{
 "cells": [
  {
   "cell_type": "code",
   "execution_count": 22,
   "metadata": {},
   "outputs": [
    {
     "name": "stdout",
     "output_type": "stream",
     "text": [
      "The value of the test statistic is: 26.623135066084455\n",
      "The two tailed p-value is: 2.472651016766245e-07\n"
     ]
    }
   ],
   "source": [
    "from scipy import stats\n",
    "import numpy as np\n",
    "\n",
    "#This test requires that you have a table that looks like this:\n",
    "# Sample 1  #of Successes #of Failures\n",
    "# Sample 2  #of Successes #of Failures\n",
    "\n",
    "#Following example 10.5 from the book, the numbers are given like this:\n",
    "# Sample 1 #of Successes(obesity) #Total number\n",
    "# Sample 2 #of Successes(obesity) #Total number\n",
    "\n",
    "#Also unlike the book, this example uses a different test, which we will learn about later\n",
    "#However the P-value for this test is exactly the same as it would be doing the book math.\n",
    "\n",
    "sample1 = 69\n",
    "sample2 = 38\n",
    "total1 = 95\n",
    "total2 = 105\n",
    "sample1table = sample1, total1 - sample1\n",
    "sample2table = sample2, total2 - sample2\n",
    "\n",
    "testTable = np.array([sample1table, sample2table])\n",
    "\n",
    "output = stats.chi2_contingency(testTable, correction=False)\n",
    "\n",
    "print(\"The value of the test statistic is: {0}\".format(output[0]))\n",
    "print(\"The two tailed p-value is: {0}\".format(output[1]))"
   ]
  },
  {
   "cell_type": "code",
   "execution_count": null,
   "metadata": {},
   "outputs": [],
   "source": []
  }
 ],
 "metadata": {
  "kernelspec": {
   "display_name": "ArcGISPro",
   "language": "Python",
   "name": "python3"
  },
  "language_info": {
   "file_extension": ".py",
   "name": "python",
   "version": "3"
  }
 },
 "nbformat": 4,
 "nbformat_minor": 2
}
