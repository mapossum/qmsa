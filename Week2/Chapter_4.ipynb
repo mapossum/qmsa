{
 "cells": [
  {
   "cell_type": "markdown",
   "metadata": {
    "slideshow": {
     "slide_type": "slide"
    }
   },
   "source": [
    "# Chapter 4\n",
    "## Descriptive Spatial Statistics"
   ]
  },
  {
   "cell_type": "markdown",
   "metadata": {
    "slideshow": {
     "slide_type": "slide"
    }
   },
   "source": [
    "# Learning Objectives\n",
    "* Explain central tendency as applied in a spatial context\n",
    "* Define spatial measures of dispersion and recognize possible applications\n",
    "* Identify potential limitations and locational issues associated with applied descriptive spatial statistics"
   ]
  },
  {
   "cell_type": "markdown",
   "metadata": {
    "slideshow": {
     "slide_type": "slide"
    }
   },
   "source": [
    "# Descriptive Spatial Statistics\n",
    "* <b> Descriptive Spatial Statistics</b>, also referred to as <b>Geostatistics</b>, are the spatial equivalent to the basic descriptive statistics.\n",
    "* They can be used to summarize point patterns and the dispersion of some phenomena."
   ]
  },
  {
   "cell_type": "markdown",
   "metadata": {
    "slideshow": {
     "slide_type": "slide"
    }
   },
   "source": [
    "# Mean Center  \n",
    "* Mean center represents an average center of a number of coordinates.\n",
    "* This is calculated by averaging the X coordinates and Y coordinates separately and using the average for the Mean Center coordinate\n",
    "* Considered the Center of Gravity\n",
    "* Can be strongly affected by outliers  "
   ]
  },
  {
   "cell_type": "markdown",
   "metadata": {
    "slideshow": {
     "slide_type": "slide"
    }
   },
   "source": [
    "# Mean Center Formula\n",
    "$$ \\overline{X_{c}} = \\dfrac{\\sum_{}^{} X_{i}}{n} \\quad and \\quad \\overline{Y_{c}} = \\dfrac{\\sum_{}^{} Y_{i}}{n} $$\n",
    "Mean of all the x coordinates and the mean of all the y coordinates."
   ]
  },
  {
   "cell_type": "code",
   "execution_count": 18,
   "metadata": {
    "slideshow": {
     "slide_type": "slide"
    }
   },
   "outputs": [
    {
     "data": {
      "text/html": [
       "<div>\n",
       "<style scoped>\n",
       "    .dataframe tbody tr th:only-of-type {\n",
       "        vertical-align: middle;\n",
       "    }\n",
       "\n",
       "    .dataframe tbody tr th {\n",
       "        vertical-align: top;\n",
       "    }\n",
       "\n",
       "    .dataframe thead th {\n",
       "        text-align: right;\n",
       "    }\n",
       "</style>\n",
       "<table border=\"1\" class=\"dataframe\">\n",
       "  <thead>\n",
       "    <tr style=\"text-align: right;\">\n",
       "      <th></th>\n",
       "      <th>Point</th>\n",
       "      <th>X</th>\n",
       "      <th>Y</th>\n",
       "      <th>W</th>\n",
       "    </tr>\n",
       "  </thead>\n",
       "  <tbody>\n",
       "    <tr>\n",
       "      <th>0</th>\n",
       "      <td>A</td>\n",
       "      <td>2.8</td>\n",
       "      <td>1.5</td>\n",
       "      <td>5</td>\n",
       "    </tr>\n",
       "    <tr>\n",
       "      <th>1</th>\n",
       "      <td>B</td>\n",
       "      <td>1.6</td>\n",
       "      <td>3.8</td>\n",
       "      <td>20</td>\n",
       "    </tr>\n",
       "    <tr>\n",
       "      <th>2</th>\n",
       "      <td>C</td>\n",
       "      <td>3.5</td>\n",
       "      <td>3.3</td>\n",
       "      <td>8</td>\n",
       "    </tr>\n",
       "    <tr>\n",
       "      <th>3</th>\n",
       "      <td>D</td>\n",
       "      <td>4.4</td>\n",
       "      <td>2.0</td>\n",
       "      <td>4</td>\n",
       "    </tr>\n",
       "    <tr>\n",
       "      <th>4</th>\n",
       "      <td>E</td>\n",
       "      <td>4.3</td>\n",
       "      <td>1.1</td>\n",
       "      <td>6</td>\n",
       "    </tr>\n",
       "    <tr>\n",
       "      <th>5</th>\n",
       "      <td>F</td>\n",
       "      <td>5.2</td>\n",
       "      <td>2.4</td>\n",
       "      <td>5</td>\n",
       "    </tr>\n",
       "    <tr>\n",
       "      <th>6</th>\n",
       "      <td>G</td>\n",
       "      <td>4.9</td>\n",
       "      <td>3.5</td>\n",
       "      <td>3</td>\n",
       "    </tr>\n",
       "  </tbody>\n",
       "</table>\n",
       "</div>"
      ],
      "text/plain": [
       "  Point    X    Y   W\n",
       "0     A  2.8  1.5   5\n",
       "1     B  1.6  3.8  20\n",
       "2     C  3.5  3.3   8\n",
       "3     D  4.4  2.0   4\n",
       "4     E  4.3  1.1   6\n",
       "5     F  5.2  2.4   5\n",
       "6     G  4.9  3.5   3"
      ]
     },
     "execution_count": 18,
     "metadata": {},
     "output_type": "execute_result"
    }
   ],
   "source": [
    "import pandas as pd\n",
    "tb4p3 = pd.read_excel('../data/ClassData.xlsx', index=\"4.4\") \n",
    "tb4p3\n",
    "#Read Table 4.3 from the Book"
   ]
  },
  {
   "cell_type": "code",
   "execution_count": 19,
   "metadata": {
    "slideshow": {
     "slide_type": "slide"
    }
   },
   "outputs": [
    {
     "name": "stdout",
     "output_type": "stream",
     "text": [
      "The mean of X is:  3.8142857142857145\n"
     ]
    },
    {
     "data": {
      "text/plain": [
       "3.8142857142857145"
      ]
     },
     "execution_count": 19,
     "metadata": {},
     "output_type": "execute_result"
    }
   ],
   "source": [
    "XMean = tb4p3[\"X\"].sum() / tb4p3[\"X\"].count()\n",
    "print(\"The mean of X is: \", XMean)\n",
    "#Use Built in Function for mean\n",
    "tb4p3[\"X\"].mean()"
   ]
  },
  {
   "cell_type": "code",
   "execution_count": 20,
   "metadata": {
    "slideshow": {
     "slide_type": "slide"
    }
   },
   "outputs": [
    {
     "name": "stdout",
     "output_type": "stream",
     "text": [
      "(3.8142857142857145, 2.5142857142857147)\n"
     ]
    }
   ],
   "source": [
    "MeanCenter = tb4p3[\"X\"].mean(), tb4p3[\"Y\"].mean()\n",
    "print(MeanCenter)\n",
    "# The Mean Center is the mean of x and the mean of y"
   ]
  },
  {
   "cell_type": "markdown",
   "metadata": {
    "slideshow": {
     "slide_type": "slide"
    }
   },
   "source": [
    "# Mean Center\n",
    "\n",
    "<table>\n",
    "<tr>\n",
    "<td>\n",
    "<img src=\"../figures/book/McGrew-et-al_3E---Figure-4-3.jpg\" alt=\"Figure 4.3\" width=\"300\"/>\n",
    "</td>\n",
    "<td>\n",
    "<img src=\"../figures/book/McGrew-et-al_3E---Figure-4-4.jpg\" alt=\"Figure 4.4\" width=\"300\"/>\n",
    "</td>\n",
    "</tr>\n",
    "</table>\n"
   ]
  },
  {
   "cell_type": "markdown",
   "metadata": {
    "slideshow": {
     "slide_type": "slide"
    }
   },
   "source": [
    "# Mean Center Application\n",
    "\n",
    "<img src=\"../figures/book/McGrew-et-al_3E---Figure-4-5.jpg\" alt=\"Figure 4.5\" width=\"700\"/>\n",
    "https://pro.arcgis.com/en/pro-app/tool-reference/spatial-statistics/mean-center.htm"
   ]
  },
  {
   "cell_type": "markdown",
   "metadata": {
    "slideshow": {
     "slide_type": "slide"
    }
   },
   "source": [
    "# Central Tendency in a Spatial Context\n",
    "* <b>Weighted Mean Center </b>\n",
    "    * Points can be weighted meaning they can be given more or less influence on the calculation of the mean center.\n",
    "    * Points could represent cities, frequencies, volume of sales or some other value that will affect the points influence.\n"
   ]
  },
  {
   "cell_type": "markdown",
   "metadata": {
    "slideshow": {
     "slide_type": "slide"
    }
   },
   "source": [
    "# Central Tendency in a Spatial Context¶\n",
    "* Weighted Mean Center (Cont.)\n",
    "    * Analogous to frequencies in the calculation of grouped statistics like the weighted mean.\n",
    "    * Influenced by large frequencies of a point."
   ]
  },
  {
   "cell_type": "markdown",
   "metadata": {
    "slideshow": {
     "slide_type": "slide"
    }
   },
   "source": [
    "# Weighted Mean Center Formula\n",
    "$$ \\overline{X}_{wc} = \\dfrac{\\sum f_{i}X_{i}}{\\sum f_{i}} \\quad and \\quad \\overline{Y}_{wc} = \\dfrac{\\sum f_{i}Y_{i}}{\\sum f_{i}} $$\n",
    "* Where:\n",
    "$$ \\overline{X}_{wc} = weighted\\ mean\\ center\\ of\\ X $$\n",
    "$$ \\overline{Y}_{wc} = weighted\\ mean\\ center\\ of\\ Y $$\n",
    "$$ f_{i} = frequency\\ (weight)\\ of\\ point\\ i $$"
   ]
  },
  {
   "cell_type": "code",
   "execution_count": 22,
   "metadata": {
    "slideshow": {
     "slide_type": "slide"
    }
   },
   "outputs": [
    {
     "data": {
      "text/html": [
       "<div>\n",
       "<style scoped>\n",
       "    .dataframe tbody tr th:only-of-type {\n",
       "        vertical-align: middle;\n",
       "    }\n",
       "\n",
       "    .dataframe tbody tr th {\n",
       "        vertical-align: top;\n",
       "    }\n",
       "\n",
       "    .dataframe thead th {\n",
       "        text-align: right;\n",
       "    }\n",
       "</style>\n",
       "<table border=\"1\" class=\"dataframe\">\n",
       "  <thead>\n",
       "    <tr style=\"text-align: right;\">\n",
       "      <th></th>\n",
       "      <th>Point</th>\n",
       "      <th>X</th>\n",
       "      <th>Y</th>\n",
       "      <th>W</th>\n",
       "      <th>Xw</th>\n",
       "      <th>Yw</th>\n",
       "    </tr>\n",
       "  </thead>\n",
       "  <tbody>\n",
       "    <tr>\n",
       "      <th>0</th>\n",
       "      <td>A</td>\n",
       "      <td>2.8</td>\n",
       "      <td>1.5</td>\n",
       "      <td>5</td>\n",
       "      <td>14.0</td>\n",
       "      <td>7.5</td>\n",
       "    </tr>\n",
       "    <tr>\n",
       "      <th>1</th>\n",
       "      <td>B</td>\n",
       "      <td>1.6</td>\n",
       "      <td>3.8</td>\n",
       "      <td>20</td>\n",
       "      <td>32.0</td>\n",
       "      <td>76.0</td>\n",
       "    </tr>\n",
       "    <tr>\n",
       "      <th>2</th>\n",
       "      <td>C</td>\n",
       "      <td>3.5</td>\n",
       "      <td>3.3</td>\n",
       "      <td>8</td>\n",
       "      <td>28.0</td>\n",
       "      <td>26.4</td>\n",
       "    </tr>\n",
       "    <tr>\n",
       "      <th>3</th>\n",
       "      <td>D</td>\n",
       "      <td>4.4</td>\n",
       "      <td>2.0</td>\n",
       "      <td>4</td>\n",
       "      <td>17.6</td>\n",
       "      <td>8.0</td>\n",
       "    </tr>\n",
       "    <tr>\n",
       "      <th>4</th>\n",
       "      <td>E</td>\n",
       "      <td>4.3</td>\n",
       "      <td>1.1</td>\n",
       "      <td>6</td>\n",
       "      <td>25.8</td>\n",
       "      <td>6.6</td>\n",
       "    </tr>\n",
       "    <tr>\n",
       "      <th>5</th>\n",
       "      <td>F</td>\n",
       "      <td>5.2</td>\n",
       "      <td>2.4</td>\n",
       "      <td>5</td>\n",
       "      <td>26.0</td>\n",
       "      <td>12.0</td>\n",
       "    </tr>\n",
       "    <tr>\n",
       "      <th>6</th>\n",
       "      <td>G</td>\n",
       "      <td>4.9</td>\n",
       "      <td>3.5</td>\n",
       "      <td>3</td>\n",
       "      <td>14.7</td>\n",
       "      <td>10.5</td>\n",
       "    </tr>\n",
       "  </tbody>\n",
       "</table>\n",
       "</div>"
      ],
      "text/plain": [
       "  Point    X    Y   W    Xw    Yw\n",
       "0     A  2.8  1.5   5  14.0   7.5\n",
       "1     B  1.6  3.8  20  32.0  76.0\n",
       "2     C  3.5  3.3   8  28.0  26.4\n",
       "3     D  4.4  2.0   4  17.6   8.0\n",
       "4     E  4.3  1.1   6  25.8   6.6\n",
       "5     F  5.2  2.4   5  26.0  12.0\n",
       "6     G  4.9  3.5   3  14.7  10.5"
      ]
     },
     "execution_count": 22,
     "metadata": {},
     "output_type": "execute_result"
    }
   ],
   "source": [
    "tb4p3[\"Xw\"] =  tb4p3[\"X\"] * tb4p3[\"W\"]\n",
    "tb4p3[\"Yw\"] =  tb4p3[\"Y\"] * tb4p3[\"W\"]\n",
    "tb4p3"
   ]
  },
  {
   "cell_type": "code",
   "execution_count": 25,
   "metadata": {
    "slideshow": {
     "slide_type": "slide"
    }
   },
   "outputs": [
    {
     "name": "stdout",
     "output_type": "stream",
     "text": [
      "3.099999999999999 2.8823529411764706\n"
     ]
    }
   ],
   "source": [
    "WeightedMeanCenterX = tb4p3[\"Xw\"].sum() / tb4p3[\"W\"].sum()\n",
    "WeightedMeanCenterY = tb4p3[\"Yw\"].sum() / tb4p3[\"W\"].sum()\n",
    "print(WeightedMeanCenterX, WeightedMeanCenterY)"
   ]
  },
  {
   "cell_type": "markdown",
   "metadata": {
    "slideshow": {
     "slide_type": "slide"
    }
   },
   "source": [
    "# Weighted Mean Center\n",
    "<img src=\"../figures/book/McGrew-et-al_3E---Figure-4-6.jpg\" alt=\"Figure 4.6\" width=\"300\"/>"
   ]
  },
  {
   "cell_type": "markdown",
   "metadata": {
    "slideshow": {
     "slide_type": "slide"
    }
   },
   "source": [
    "# Least Squares Property\n",
    "* Analogous to the least squares for a mean\n",
    "    * Sum of squared deviations about mean is zero\n",
    "    * Sum of squared deviations about a mean is less than the sum of squared deviations about any other number\n",
    "* Deviations are distances\n",
    "    * Calculated as the Euclidean distance"
   ]
  },
  {
   "cell_type": "markdown",
   "metadata": {
    "slideshow": {
     "slide_type": "slide"
    }
   },
   "source": [
    "## Euclidean Median\n",
    "* Considered the Median Center\n",
    "* Used when determining the central location that minimizes the unsquared rather than the squared\n",
    "* Can be weighted\n",
    "* Algorithmic solution rather than formulaic (requires multiple steps, but easy for a computer).\n",
    "* https://pro.arcgis.com/en/pro-app/tool-reference/spatial-statistics/median-center.htm"
   ]
  },
  {
   "cell_type": "markdown",
   "metadata": {
    "slideshow": {
     "slide_type": "slide"
    }
   },
   "source": [
    "# Euclidean Median\n",
    "* Used in economic geography to solve the “Weber” problem which searches for the “best” location for an industry.\n",
    "* The best location will result in\n",
    "    * Minimized transportation costs of raw material to factory\n",
    "    * Minimized transportation costs of finished products to the market"
   ]
  },
  {
   "cell_type": "markdown",
   "metadata": {
    "slideshow": {
     "slide_type": "slide"
    }
   },
   "source": [
    "# Euclidean Median\n",
    "* Heavily used in public and private facility location\n",
    "* Used to minimize the average distance a person must travel to reach a destination.\n",
    "    * Useful in location of fire stations, police stations, hospitals and care centers\n",
    "    * Used in conjunction with demographics to select store locations that will target the desired consumers\n"
   ]
  },
  {
   "cell_type": "markdown",
   "metadata": {
    "slideshow": {
     "slide_type": "slide"
    }
   },
   "source": [
    "# Standard Distance\n",
    "* Analogous to the Standard Deviation in descriptive statistics\n",
    "* Measures the amount of absolute dispersion in a point pattern\n",
    "* Uses the straight-line Euclidean distance of each point from the mean center\n",
    "* https://pro.arcgis.com/en/pro-app/tool-reference/spatial-statistics/standard-distance.htm"
   ]
  },
  {
   "cell_type": "markdown",
   "metadata": {
    "slideshow": {
     "slide_type": "slide"
    }
   },
   "source": [
    "# Standard Distance\n",
    "* Like Standard Deviation, strongly influenced by extreme locations\n",
    "$$ S_{D} = \\sqrt{ \\dfrac{\\sum(X_{i}-\\overline{X}_{c})^{2} + \\sum(Y_{i}-\\overline{Y}_{c})^{2}}{n}} $$\n",
    "   * There is an alternative formula in the book (4.13)\n",
    "* Weighted standard distance can be used for problems that use the weighted mean center"
   ]
  },
  {
   "cell_type": "code",
   "execution_count": 60,
   "metadata": {
    "slideshow": {
     "slide_type": "slide"
    }
   },
   "outputs": [
    {
     "data": {
      "text/html": [
       "<div>\n",
       "<style scoped>\n",
       "    .dataframe tbody tr th:only-of-type {\n",
       "        vertical-align: middle;\n",
       "    }\n",
       "\n",
       "    .dataframe tbody tr th {\n",
       "        vertical-align: top;\n",
       "    }\n",
       "\n",
       "    .dataframe thead th {\n",
       "        text-align: right;\n",
       "    }\n",
       "</style>\n",
       "<table border=\"1\" class=\"dataframe\">\n",
       "  <thead>\n",
       "    <tr style=\"text-align: right;\">\n",
       "      <th></th>\n",
       "      <th>Point</th>\n",
       "      <th>X</th>\n",
       "      <th>Y</th>\n",
       "      <th>W</th>\n",
       "      <th>sqX</th>\n",
       "      <th>sqY</th>\n",
       "    </tr>\n",
       "  </thead>\n",
       "  <tbody>\n",
       "    <tr>\n",
       "      <th>0</th>\n",
       "      <td>A</td>\n",
       "      <td>2.8</td>\n",
       "      <td>1.5</td>\n",
       "      <td>5</td>\n",
       "      <td>7.84</td>\n",
       "      <td>2.25</td>\n",
       "    </tr>\n",
       "    <tr>\n",
       "      <th>1</th>\n",
       "      <td>B</td>\n",
       "      <td>1.6</td>\n",
       "      <td>3.8</td>\n",
       "      <td>20</td>\n",
       "      <td>2.56</td>\n",
       "      <td>14.44</td>\n",
       "    </tr>\n",
       "    <tr>\n",
       "      <th>2</th>\n",
       "      <td>C</td>\n",
       "      <td>3.5</td>\n",
       "      <td>3.3</td>\n",
       "      <td>8</td>\n",
       "      <td>12.25</td>\n",
       "      <td>10.89</td>\n",
       "    </tr>\n",
       "    <tr>\n",
       "      <th>3</th>\n",
       "      <td>D</td>\n",
       "      <td>4.4</td>\n",
       "      <td>2.0</td>\n",
       "      <td>4</td>\n",
       "      <td>19.36</td>\n",
       "      <td>4.00</td>\n",
       "    </tr>\n",
       "    <tr>\n",
       "      <th>4</th>\n",
       "      <td>E</td>\n",
       "      <td>4.3</td>\n",
       "      <td>1.1</td>\n",
       "      <td>6</td>\n",
       "      <td>18.49</td>\n",
       "      <td>1.21</td>\n",
       "    </tr>\n",
       "    <tr>\n",
       "      <th>5</th>\n",
       "      <td>F</td>\n",
       "      <td>5.2</td>\n",
       "      <td>2.4</td>\n",
       "      <td>5</td>\n",
       "      <td>27.04</td>\n",
       "      <td>5.76</td>\n",
       "    </tr>\n",
       "    <tr>\n",
       "      <th>6</th>\n",
       "      <td>G</td>\n",
       "      <td>4.9</td>\n",
       "      <td>3.5</td>\n",
       "      <td>3</td>\n",
       "      <td>24.01</td>\n",
       "      <td>12.25</td>\n",
       "    </tr>\n",
       "  </tbody>\n",
       "</table>\n",
       "</div>"
      ],
      "text/plain": [
       "  Point    X    Y   W    sqX    sqY\n",
       "0     A  2.8  1.5   5   7.84   2.25\n",
       "1     B  1.6  3.8  20   2.56  14.44\n",
       "2     C  3.5  3.3   8  12.25  10.89\n",
       "3     D  4.4  2.0   4  19.36   4.00\n",
       "4     E  4.3  1.1   6  18.49   1.21\n",
       "5     F  5.2  2.4   5  27.04   5.76\n",
       "6     G  4.9  3.5   3  24.01  12.25"
      ]
     },
     "execution_count": 60,
     "metadata": {},
     "output_type": "execute_result"
    }
   ],
   "source": [
    "#Like table 4.5\n",
    "tb4p5 = pd.read_excel('../data/ClassData.xlsx', index=\"4.4\") \n",
    "tb4p5[\"sqX\"] = tb4p5[\"X\"] * tb4p5[\"X\"]\n",
    "tb4p5[\"sqY\"] = tb4p5[\"Y\"] ** 2\n",
    "tb4p5"
   ]
  },
  {
   "cell_type": "code",
   "execution_count": 61,
   "metadata": {
    "slideshow": {
     "slide_type": "slide"
    }
   },
   "outputs": [
    {
     "data": {
      "text/plain": [
       "1.5239583260679521"
      ]
     },
     "execution_count": 61,
     "metadata": {},
     "output_type": "execute_result"
    }
   ],
   "source": [
    "sqXSum = tb4p5[\"sqX\"].sum()\n",
    "sqYSum = tb4p5[\"sqY\"].sum()\n",
    "sqXMean = tb4p5[\"X\"].mean() ** 2\n",
    "sqYMean = tb4p5[\"Y\"].mean() ** 2\n",
    "n = tb4p5[\"X\"].count()\n",
    "SD = (((sqXSum/n)- sqXMean) + ((sqYSum/n)- sqYMean)) ** 0.5\n",
    "SD\n",
    "#The answer is slightly different than book because I never rounded"
   ]
  },
  {
   "cell_type": "code",
   "execution_count": 68,
   "metadata": {},
   "outputs": [
    {
     "data": {
      "text/html": [
       "<div>\n",
       "<style scoped>\n",
       "    .dataframe tbody tr th:only-of-type {\n",
       "        vertical-align: middle;\n",
       "    }\n",
       "\n",
       "    .dataframe tbody tr th {\n",
       "        vertical-align: top;\n",
       "    }\n",
       "\n",
       "    .dataframe thead th {\n",
       "        text-align: right;\n",
       "    }\n",
       "</style>\n",
       "<table border=\"1\" class=\"dataframe\">\n",
       "  <thead>\n",
       "    <tr style=\"text-align: right;\">\n",
       "      <th></th>\n",
       "      <th>Point</th>\n",
       "      <th>X</th>\n",
       "      <th>Y</th>\n",
       "      <th>W</th>\n",
       "      <th>WsqX</th>\n",
       "      <th>WsqY</th>\n",
       "    </tr>\n",
       "  </thead>\n",
       "  <tbody>\n",
       "    <tr>\n",
       "      <th>0</th>\n",
       "      <td>A</td>\n",
       "      <td>2.8</td>\n",
       "      <td>1.5</td>\n",
       "      <td>5</td>\n",
       "      <td>39.20</td>\n",
       "      <td>11.25</td>\n",
       "    </tr>\n",
       "    <tr>\n",
       "      <th>1</th>\n",
       "      <td>B</td>\n",
       "      <td>1.6</td>\n",
       "      <td>3.8</td>\n",
       "      <td>20</td>\n",
       "      <td>51.20</td>\n",
       "      <td>288.80</td>\n",
       "    </tr>\n",
       "    <tr>\n",
       "      <th>2</th>\n",
       "      <td>C</td>\n",
       "      <td>3.5</td>\n",
       "      <td>3.3</td>\n",
       "      <td>8</td>\n",
       "      <td>98.00</td>\n",
       "      <td>87.12</td>\n",
       "    </tr>\n",
       "    <tr>\n",
       "      <th>3</th>\n",
       "      <td>D</td>\n",
       "      <td>4.4</td>\n",
       "      <td>2.0</td>\n",
       "      <td>4</td>\n",
       "      <td>77.44</td>\n",
       "      <td>16.00</td>\n",
       "    </tr>\n",
       "    <tr>\n",
       "      <th>4</th>\n",
       "      <td>E</td>\n",
       "      <td>4.3</td>\n",
       "      <td>1.1</td>\n",
       "      <td>6</td>\n",
       "      <td>110.94</td>\n",
       "      <td>7.26</td>\n",
       "    </tr>\n",
       "    <tr>\n",
       "      <th>5</th>\n",
       "      <td>F</td>\n",
       "      <td>5.2</td>\n",
       "      <td>2.4</td>\n",
       "      <td>5</td>\n",
       "      <td>135.20</td>\n",
       "      <td>28.80</td>\n",
       "    </tr>\n",
       "    <tr>\n",
       "      <th>6</th>\n",
       "      <td>G</td>\n",
       "      <td>4.9</td>\n",
       "      <td>3.5</td>\n",
       "      <td>3</td>\n",
       "      <td>72.03</td>\n",
       "      <td>36.75</td>\n",
       "    </tr>\n",
       "  </tbody>\n",
       "</table>\n",
       "</div>"
      ],
      "text/plain": [
       "  Point    X    Y   W    WsqX    WsqY\n",
       "0     A  2.8  1.5   5   39.20   11.25\n",
       "1     B  1.6  3.8  20   51.20  288.80\n",
       "2     C  3.5  3.3   8   98.00   87.12\n",
       "3     D  4.4  2.0   4   77.44   16.00\n",
       "4     E  4.3  1.1   6  110.94    7.26\n",
       "5     F  5.2  2.4   5  135.20   28.80\n",
       "6     G  4.9  3.5   3   72.03   36.75"
      ]
     },
     "execution_count": 68,
     "metadata": {},
     "output_type": "execute_result"
    }
   ],
   "source": [
    "#Like table 4.6\n",
    "tb4p5 = pd.read_excel('../data/ClassData.xlsx', index=\"4.4\") \n",
    "tb4p5[\"WsqX\"] = tb4p5[\"X\"] * tb4p5[\"X\"] * tb4p5[\"W\"]\n",
    "tb4p5[\"WsqY\"] = tb4p5[\"Y\"] ** 2 * tb4p5[\"W\"] \n",
    "tb4p5"
   ]
  },
  {
   "cell_type": "code",
   "execution_count": 69,
   "metadata": {},
   "outputs": [
    {
     "data": {
      "text/plain": [
       "1.6929734698305754"
      ]
     },
     "execution_count": 69,
     "metadata": {},
     "output_type": "execute_result"
    }
   ],
   "source": [
    "WsqXSum = tb4p5[\"WsqX\"].sum()\n",
    "WsqYSum = tb4p5[\"WsqY\"].sum()\n",
    "Wsum = tb4p5[\"W\"].sum()\n",
    "WXMeansq = WeightedMeanCenterX ** 2\n",
    "WYMeansq = WeightedMeanCenterY ** 2\n",
    "SDW = (((WsqXSum/Wsum)- WXMeansq) + ((WsqYSum/Wsum)- WYMeansq)) ** 0.5\n",
    "SDW\n",
    "#The answer is slightly different than book because I never rounded"
   ]
  },
  {
   "cell_type": "markdown",
   "metadata": {
    "slideshow": {
     "slide_type": "slide"
    }
   },
   "source": [
    "# Standard Deviational Ellipse\n",
    "Represents the average distance points vary from the mean center\n",
    "$$ SD_{x} = \\sqrt{\\dfrac{\\sum(X_{i}-\\overline{X}_{c})^2}{n}} \\quad and \\quad SD_{y} = \\sqrt{\\dfrac{\\sum(Y_{i}-\\overline{Y}_{c})^2}{n}} $$"
   ]
  },
  {
   "cell_type": "markdown",
   "metadata": {
    "slideshow": {
     "slide_type": "slide"
    }
   },
   "source": [
    "# Standard Deviational Ellipse\n",
    "\n",
    "<table>\n",
    "<tr>\n",
    "<td>\n",
    "<img src=\"../figures/book/McGrew-et-al_3E---Figure-4-11.jpg\" alt=\"Figure 4.11\" width=\"250\"/>\n",
    "</td>\n",
    "<td>\n",
    "<img src=\"../figures/book/McGrew-et-al_3E---Figure-4-12.jpg\" alt=\"Figure 4.12\" width=\"400\"/>\n",
    "</td>\n",
    "</tr>\n",
    "</table>\n",
    "https://pro.arcgis.com/en/pro-app/tool-reference/spatial-statistics/directional-distribution.htm"
   ]
  },
  {
   "cell_type": "markdown",
   "metadata": {
    "slideshow": {
     "slide_type": "slide"
    }
   },
   "source": [
    "# Distance Calculations\n",
    "* Euclidean Distance\n",
    "$$ d_{ij} = \\sqrt{(X_{i}-X_{j})^{2} + (Y_{i}-Y_{j})^{2}} $$\n",
    "* General Form\n",
    "$$ d_{ij} = [ {(X_{i}-X_{j})^{k} + (Y_{i}-Y_{j})^{k}} ]^{1/k} $$\n"
   ]
  },
  {
   "cell_type": "markdown",
   "metadata": {
    "slideshow": {
     "slide_type": "slide"
    }
   },
   "source": [
    "# Distance Calculations\n",
    "* Distance does not always have to be straight line distance (Euclidean Distance)\n",
    "    * Manhattan Distance (k = 1 in general form)\n",
    "    * Network Distance "
   ]
  },
  {
   "cell_type": "markdown",
   "metadata": {},
   "source": [
    "## Distance Calculations\n",
    "<img src=\"../figures/book/McGrew-et-al_3E---Figure-4-7.jpg\" alt=\"Figure 4.7\" width=\"400\"/>"
   ]
  },
  {
   "cell_type": "markdown",
   "metadata": {
    "slideshow": {
     "slide_type": "slide"
    }
   },
   "source": [
    "# Coefficient of Variation \n",
    "* Calculated  by dividing the standard deviation by the mean\n",
    "* Measures the relative dispersion of values\n",
    "* No analogous methods exists for measuring spatial dispersion \n",
    "* Dividing the standard distance by the mean center does not provide meaningful results"
   ]
  },
  {
   "cell_type": "markdown",
   "metadata": {
    "slideshow": {
     "slide_type": "slide"
    }
   },
   "source": [
    "# Relative Distance\n",
    "* To obtain a measure of relative dispersion, the standard distance must be divided by some measure of regional magnitude\n",
    "* Region magnitude cannot be mean center\n",
    "* Some standard area is used to normalize the measurement. Radius of a circle the same size is often used (minimum bounding circle)."
   ]
  },
  {
   "cell_type": "markdown",
   "metadata": {
    "slideshow": {
     "slide_type": "slide"
    }
   },
   "source": [
    "# Relative Distance\n",
    "$$ R_{D} = \\dfrac{S_{D}}{r_{a}} $$\n",
    "* This measure allows direct comparison of the dispersion of different point patterns from different areas, even if the areas are of varying sizes.\n",
    "* https://pro.arcgis.com/en/pro-app/tool-reference/data-management/minimum-bounding-geometry.htm"
   ]
  },
  {
   "cell_type": "markdown",
   "metadata": {
    "slideshow": {
     "slide_type": "slide"
    }
   },
   "source": [
    "# Relative Distance\n",
    "<table>\n",
    "<tr>\n",
    "<td>\n",
    "<img src=\"../figures/book/McGrew-et-al_3E---Figure-4-13.jpg\" alt=\"Figure 4.13\" width=\"200\"/>\n",
    "</td>\n",
    "<td>\n",
    "<img src=\"../figures/book/McGrew-et-al_3E---Figure-4-14.jpg\" alt=\"Figure 4.14\" width=\"200\"/>\n",
    "</td>\n",
    "</tr>\n",
    "</table>\n"
   ]
  },
  {
   "cell_type": "markdown",
   "metadata": {
    "slideshow": {
     "slide_type": "slide"
    }
   },
   "source": [
    "# Linear Directional Mean (LDM)\n",
    "* Identifies the typical or general mean direction for a set of lines\n",
    "$$ LDM = arctan \\dfrac{\\sum_{i=1}^{n}sin\\theta_{i}}{\\sum_{i=1}^{n}cos\\theta_{i}} $$"
   ]
  },
  {
   "cell_type": "markdown",
   "metadata": {
    "slideshow": {
     "slide_type": "slide"
    }
   },
   "source": [
    "# Linear Directional Mean (LDM)\n",
    "<img src=\"../figures/book/McGrew-et-al_3E---Figure-4-8.jpg\" alt=\"Figure 4.8\" width=\"400\"/>\n",
    "\n",
    "https://pro.arcgis.com/en/pro-app/tool-reference/spatial-statistics/linear-directional-mean.htm"
   ]
  },
  {
   "cell_type": "markdown",
   "metadata": {
    "slideshow": {
     "slide_type": "slide"
    }
   },
   "source": [
    "# Linear Directional Mean (LDM)\n",
    "<img src=\"../figures/book/McGrew-et-al_3E---Figure-4-9.jpg\" alt=\"Figure 4.9\" width=\"400\"/>"
   ]
  },
  {
   "cell_type": "markdown",
   "metadata": {
    "slideshow": {
     "slide_type": "slide"
    }
   },
   "source": [
    "# Limitations and Locational Issues\n",
    "Geographers should look at geostatistics very carefully\n",
    "* Interpretation can be difficult\n",
    "    * The mean center for a high income area could be in a low income area\n",
    "* Should view geostatistics as general indicators of location instead of precise measurements"
   ]
  },
  {
   "cell_type": "markdown",
   "metadata": {
    "slideshow": {
     "slide_type": "subslide"
    }
   },
   "source": [
    "* Point pattern analysis an benefit from consideration of other possible pattern characteristics\n",
    " * Using the knowledge of descriptive statistics like skewness and kurtosis can offer insights about the symmetry of the pattern that geographers could find useful when comparing point patterns\n",
    " * Value in comparing degrees of clustering and dispersal in different point patterns thought measuring spatial kurtosis levels"
   ]
  },
  {
   "cell_type": "code",
   "execution_count": null,
   "metadata": {},
   "outputs": [],
   "source": []
  }
 ],
 "metadata": {
  "celltoolbar": "Slideshow",
  "kernelspec": {
   "display_name": "Python 3",
   "language": "python",
   "name": "python3"
  },
  "language_info": {
   "codemirror_mode": {
    "name": "ipython",
    "version": 3
   },
   "file_extension": ".py",
   "mimetype": "text/x-python",
   "name": "python",
   "nbconvert_exporter": "python",
   "pygments_lexer": "ipython3",
   "version": "3.6.8"
  }
 },
 "nbformat": 4,
 "nbformat_minor": 2
}
