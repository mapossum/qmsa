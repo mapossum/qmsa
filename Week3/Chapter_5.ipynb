{
 "cells": [
  {
   "cell_type": "markdown",
   "metadata": {
    "slideshow": {
     "slide_type": "slide"
    }
   },
   "source": [
    "## Basics of Probability\n",
    "* Probability-Related **Concepts**\n",
    "* How to **Assign** Probabilities to Experimental Outcomes\n",
    "* Probability **Rules**"
   ]
  },
  {
   "cell_type": "markdown",
   "metadata": {
    "slideshow": {
     "slide_type": "slide"
    }
   },
   "source": [
    "## Basics of Probability\n",
    "* **Discrete** Random Variables\n",
    "* **Continuous** Random Variables\n",
    "* Probability **Distribution & Functions**"
   ]
  },
  {
   "cell_type": "markdown",
   "metadata": {
    "slideshow": {
     "slide_type": "slide"
    }
   },
   "source": [
    "## Probability Processes\n",
    "* Deterministic Processes are those that create a pattern with complete certainty in the outcome.\n",
    "* Probabilistic processes concern situations that cannot be determined with complete certainty."
   ]
  },
  {
   "cell_type": "markdown",
   "metadata": {
    "slideshow": {
     "slide_type": "slide"
    }
   },
   "source": [
    "## Probabilistic processes\n",
    "* Random processes\n",
    "    * All probability equal\n",
    "* Stochastic processes\n",
    "    * Not all outcomes have an equal probability\n",
    "    * Monte Carlo Simulation"
   ]
  },
  {
   "cell_type": "markdown",
   "metadata": {
    "slideshow": {
     "slide_type": "slide"
    }
   },
   "source": [
    "## Concepts\n",
    "* **An event** – Any phenomenon you can observe that can have **more than one outcome** (e.g., flipping a coin)\n",
    "* **An outcome** – Any **unique condition** that can be the result of an event (e.g., flipping a coin: heads or tails), a.k.a simple event or sample points\n",
    "* **Sample space** – The set of **all** possible outcomes associated with an event\n",
    "* **Probability** is a measure of the **likelihood** of each possible outcome"
   ]
  },
  {
   "cell_type": "markdown",
   "metadata": {
    "slideshow": {
     "slide_type": "slide"
    }
   },
   "source": [
    "## Relative Frequency \n",
    "$$ P(A) =  \\dfrac{F(A)}{F(E)}  $$\n",
    "P(A) = probability of outcome A occuring  \n",
    "F(A) = absolute frequency of outcome A  \n",
    "F(E) = absolute frequency of all outcomes for event E"
   ]
  },
  {
   "cell_type": "markdown",
   "metadata": {
    "slideshow": {
     "slide_type": "slide"
    }
   },
   "source": [
    "<img src=\"../figures/book/McGrew-et-al_3E---Figure-5-1.jpg\" alt=\"Figure 5.1\" width=\"300\"/>"
   ]
  },
  {
   "cell_type": "markdown",
   "metadata": {
    "slideshow": {
     "slide_type": "slide"
    }
   },
   "source": [
    "$$ P(W) = \\dfrac{number\\ of\\ wet\\ days}{total\\ days} = \\dfrac{38}{100} = 0.38 $$\n",
    "<br>\n",
    "$$ P(W) = \\dfrac{number\\ of\\ dry\\ days}{total\\ days} = \\dfrac{62}{100} = 0.62 $$\n",
    "<br>\n",
    "$$ 0.0 \\leq P(A) \\leq 1.0 $$"
   ]
  },
  {
   "cell_type": "markdown",
   "metadata": {
    "slideshow": {
     "slide_type": "slide"
    }
   },
   "source": [
    "### Complement\n",
    "$$ P(A) + P(\\overline{A}) = 1.0 $$\n",
    "$$ P(\\overline{W}) = P(D) $$"
   ]
  },
  {
   "cell_type": "markdown",
   "metadata": {
    "slideshow": {
     "slide_type": "slide"
    }
   },
   "source": [
    "### Statistically Independent\n",
    "* Exists when the probability of one event occurring is not influenced or affected by whether another event has occurred.\n",
    "* Multiplication Rule:\n",
    "$$ P(A\\ and\\ B) = P(A) \\cdot P(B) $$"
   ]
  },
  {
   "cell_type": "markdown",
   "metadata": {
    "slideshow": {
     "slide_type": "slide"
    }
   },
   "source": [
    "### Example\n",
    "* Probabilty of Wet Day (0.38) AND Probability of Pizza Delivery Late (0.1)\n",
    "$$ P(A\\ and\\ B) = 0.38 \\cdot 0.1 = 0.038 $$  \n",
    "But are they really independent?"
   ]
  },
  {
   "cell_type": "markdown",
   "metadata": {},
   "source": [
    "### Event Probabilities\n",
    "* Mutually Exclusive\n",
    "$$ P(A\\ or\\ B\\ or\\ C) = P(A) + P(B) + P(C) $$\n",
    "* Not Mutually Exclusive \n",
    "$$ P(A\\ or\\ B) = P(A) + P(B) - P(A\\ and\\ B) $$\n",
    "* Conditional Probability\n",
    "$$ P(A\\ |\\ B) = \\dfrac{P(A\\ and\\ B)}{P(B)} $$"
   ]
  },
  {
   "cell_type": "code",
   "execution_count": 2,
   "metadata": {
    "slideshow": {
     "slide_type": "slide"
    }
   },
   "outputs": [
    {
     "data": {
      "text/html": [
       "<div>\n",
       "<style scoped>\n",
       "    .dataframe tbody tr th:only-of-type {\n",
       "        vertical-align: middle;\n",
       "    }\n",
       "\n",
       "    .dataframe tbody tr th {\n",
       "        vertical-align: top;\n",
       "    }\n",
       "\n",
       "    .dataframe thead th {\n",
       "        text-align: right;\n",
       "    }\n",
       "</style>\n",
       "<table border=\"1\" class=\"dataframe\">\n",
       "  <thead>\n",
       "    <tr style=\"text-align: right;\">\n",
       "      <th></th>\n",
       "      <th>Country</th>\n",
       "      <th>CA</th>\n",
       "      <th>NY</th>\n",
       "      <th>FL</th>\n",
       "      <th>TX</th>\n",
       "      <th>NJ</th>\n",
       "      <th>Totals</th>\n",
       "    </tr>\n",
       "  </thead>\n",
       "  <tbody>\n",
       "    <tr>\n",
       "      <th>0</th>\n",
       "      <td>Mexico</td>\n",
       "      <td>50645</td>\n",
       "      <td>2437</td>\n",
       "      <td>3113</td>\n",
       "      <td>32811</td>\n",
       "      <td>2437</td>\n",
       "      <td>139120</td>\n",
       "    </tr>\n",
       "    <tr>\n",
       "      <th>1</th>\n",
       "      <td>China</td>\n",
       "      <td>18680</td>\n",
       "      <td>18859</td>\n",
       "      <td>1620</td>\n",
       "      <td>3280</td>\n",
       "      <td>2253</td>\n",
       "      <td>70863</td>\n",
       "    </tr>\n",
       "    <tr>\n",
       "      <th>2</th>\n",
       "      <td>India</td>\n",
       "      <td>15099</td>\n",
       "      <td>5116</td>\n",
       "      <td>2019</td>\n",
       "      <td>5777</td>\n",
       "      <td>8123</td>\n",
       "      <td>69162</td>\n",
       "    </tr>\n",
       "    <tr>\n",
       "      <th>3</th>\n",
       "      <td>Phillippines</td>\n",
       "      <td>24082</td>\n",
       "      <td>2361</td>\n",
       "      <td>2320</td>\n",
       "      <td>2525</td>\n",
       "      <td>2321</td>\n",
       "      <td>58173</td>\n",
       "    </tr>\n",
       "    <tr>\n",
       "      <th>4</th>\n",
       "      <td>Dominican Republic</td>\n",
       "      <td>172</td>\n",
       "      <td>26249</td>\n",
       "      <td>3900</td>\n",
       "      <td>275</td>\n",
       "      <td>8444</td>\n",
       "      <td>53870</td>\n",
       "    </tr>\n",
       "    <tr>\n",
       "      <th>5</th>\n",
       "      <td>Totals</td>\n",
       "      <td>208446</td>\n",
       "      <td>147999</td>\n",
       "      <td>107276</td>\n",
       "      <td>87750</td>\n",
       "      <td>56920</td>\n",
       "      <td>1042625</td>\n",
       "    </tr>\n",
       "  </tbody>\n",
       "</table>\n",
       "</div>"
      ],
      "text/plain": [
       "              Country      CA      NY      FL     TX     NJ   Totals\n",
       "0              Mexico   50645    2437    3113  32811   2437   139120\n",
       "1               China   18680   18859    1620   3280   2253    70863\n",
       "2               India   15099    5116    2019   5777   8123    69162\n",
       "3        Phillippines   24082    2361    2320   2525   2321    58173\n",
       "4  Dominican Republic     172   26249    3900    275   8444    53870\n",
       "5              Totals  208446  147999  107276  87750  56920  1042625"
      ]
     },
     "execution_count": 2,
     "metadata": {},
     "output_type": "execute_result"
    }
   ],
   "source": [
    "# Read table 5.1\n",
    "import pandas as pd\n",
    "tb5p1 = pd.read_excel('../data/ClassData.xlsx', sheet_name=\"5.1\") \n",
    "tb5p1"
   ]
  },
  {
   "cell_type": "code",
   "execution_count": 3,
   "metadata": {
    "slideshow": {
     "slide_type": "slide"
    }
   },
   "outputs": [
    {
     "data": {
      "text/plain": [
       "(0.0679659513247812,\n",
       " 0.06633449226711426,\n",
       " 0.05579474883107541,\n",
       " 0.19009519242297088)"
      ]
     },
     "execution_count": 3,
     "metadata": {},
     "output_type": "execute_result"
    }
   ],
   "source": [
    "#Probability of that the selecting an immigrant that orginated in China, India or the Phillippines\n",
    "ChinaP = tb5p1[\"Totals\"][1] / tb5p1[\"Totals\"][5]\n",
    "IndiaP = tb5p1[\"Totals\"][2] / tb5p1[\"Totals\"][5]\n",
    "PhP = tb5p1[\"Totals\"][3] / tb5p1[\"Totals\"][5]\n",
    "ChinaORIndiaORPhP = ChinaP + IndiaP + PhP\n",
    "ChinaP, IndiaP, PhP, ChinaORIndiaORPhP"
   ]
  },
  {
   "cell_type": "code",
   "execution_count": 4,
   "metadata": {
    "slideshow": {
     "slide_type": "slide"
    }
   },
   "outputs": [
    {
     "data": {
      "text/plain": [
       "(0.13343244215321903,\n",
       " 0.19992422970866802,\n",
       " 0.04857451144946649,\n",
       " 0.28478216041242055)"
      ]
     },
     "execution_count": 4,
     "metadata": {},
     "output_type": "execute_result"
    }
   ],
   "source": [
    "#Select a immigrant that orginated from Mexico OR settled in CA\n",
    "#Definitly not multually exclusive\n",
    "MexicoP = tb5p1[\"Totals\"][0] / tb5p1[\"Totals\"][5]\n",
    "CAP = tb5p1[\"CA\"][5] / tb5p1[\"Totals\"][5]\n",
    "MexicoANDCA_P = tb5p1[\"CA\"][0] / tb5p1[\"Totals\"][5]\n",
    "FromMexicoORToCA_P = MexicoP + CAP - MexicoANDCA_P\n",
    "MexicoP, CAP, MexicoANDCA_P, FromMexicoORToCA_P"
   ]
  },
  {
   "cell_type": "code",
   "execution_count": 5,
   "metadata": {
    "slideshow": {
     "slide_type": "slide"
    }
   },
   "outputs": [
    {
     "data": {
      "text/plain": [
       "(0.0251758781920633, 0.1419484474283659, 0.17735930648180054)"
      ]
     },
     "execution_count": 5,
     "metadata": {},
     "output_type": "execute_result"
    }
   ],
   "source": [
    "#What is the probability of selecting a Dominican immigrant knowing he settled in NY\n",
    "NY_AND_DomP = tb5p1[\"NY\"][4] / tb5p1[\"Totals\"][5]\n",
    "NY_P = tb5p1[\"NY\"][5] / tb5p1[\"Totals\"][5]\n",
    "Dom_in_NY_P = NY_AND_DomP / NY_P\n",
    "NY_AND_DomP, NY_P, Dom_in_NY_P"
   ]
  },
  {
   "cell_type": "markdown",
   "metadata": {
    "slideshow": {
     "slide_type": "slide"
    }
   },
   "source": [
    "### Probability Distributions\n",
    "* The usual application of **probability distributions** is to find a **theoretical distribution** \n",
    "* Reflects a process that **explains what we see** in some observed sample of a geographic phenomenon\n",
    "* Compare the **form** of the sampled information and theoretical distribution through a **test of significance**\n",
    "* Geography: **discrete random events** in space and time (e.g. how often will a tornado occur?)"
   ]
  },
  {
   "cell_type": "markdown",
   "metadata": {
    "slideshow": {
     "slide_type": "slide"
    }
   },
   "source": [
    "### Discrete probability distributions (happens or doesn't)\n",
    "* The **Uniform** Distribution (Not really referenced in the book)\n",
    "* The **Binomial** Distribution\n",
    "* The **Geometric** Distribution\n",
    "* The **Poisson** Distribution\n",
    "* Each is appropriately applied in certain situations and to particular phenomena"
   ]
  },
  {
   "cell_type": "markdown",
   "metadata": {
    "slideshow": {
     "slide_type": "slide"
    }
   },
   "source": [
    "### The Binomial Distribution\n",
    "* is the discrete probability distribution of the number of successes in a sequence of n independent yes/no experiments, each of which yields success with probability p.\n",
    "* Used to answer questions of how likely is a particular event to occur over repeated time periods\n",
    "    * Flooding\n",
    "    * Crop Failure"
   ]
  },
  {
   "cell_type": "markdown",
   "metadata": {
    "slideshow": {
     "slide_type": "slide"
    }
   },
   "source": [
    "<img src=\"../figures/book/McGrew-et-al_3E---Figure-5-2.jpg\" alt=\"Figure 5.2\" width=\"300\"/>"
   ]
  },
  {
   "cell_type": "markdown",
   "metadata": {
    "slideshow": {
     "slide_type": "slide"
    }
   },
   "source": [
    "### Binomial Function \n",
    "$$ P(X) = \\dfrac{n!p^{x}q^{n-X}}{X!(n-X)!} $$\n",
    "$n$ = number of events or trials  \n",
    "$p$ = probability of the given outcome in a single trial  \n",
    "$q = \\overline{p} = 1 - p$ or the probability of the other outcome in a single trial  \n",
    "$X$ = number of times the given outcome occurs within $n$ trials  \n",
    "$n!$ = $n$ **factorial**  "
   ]
  },
  {
   "cell_type": "code",
   "execution_count": 6,
   "metadata": {
    "slideshow": {
     "slide_type": "slide"
    }
   },
   "outputs": [
    {
     "name": "stdout",
     "output_type": "stream",
     "text": [
      "[0 1 2 3 4 5]\n"
     ]
    },
    {
     "data": {
      "text/html": [
       "<div>\n",
       "<style scoped>\n",
       "    .dataframe tbody tr th:only-of-type {\n",
       "        vertical-align: middle;\n",
       "    }\n",
       "\n",
       "    .dataframe tbody tr th {\n",
       "        vertical-align: top;\n",
       "    }\n",
       "\n",
       "    .dataframe thead th {\n",
       "        text-align: right;\n",
       "    }\n",
       "</style>\n",
       "<table border=\"1\" class=\"dataframe\">\n",
       "  <thead>\n",
       "    <tr style=\"text-align: right;\">\n",
       "      <th></th>\n",
       "      <th>Successes</th>\n",
       "      <th>Prob</th>\n",
       "      <th>Type of Outcome</th>\n",
       "    </tr>\n",
       "  </thead>\n",
       "  <tbody>\n",
       "    <tr>\n",
       "      <th>0</th>\n",
       "      <td>0</td>\n",
       "      <td>0.418212</td>\n",
       "      <td>Suitable</td>\n",
       "    </tr>\n",
       "    <tr>\n",
       "      <th>1</th>\n",
       "      <td>1</td>\n",
       "      <td>0.398297</td>\n",
       "      <td>Suitable</td>\n",
       "    </tr>\n",
       "    <tr>\n",
       "      <th>2</th>\n",
       "      <td>2</td>\n",
       "      <td>0.151732</td>\n",
       "      <td>Unsuitable</td>\n",
       "    </tr>\n",
       "    <tr>\n",
       "      <th>3</th>\n",
       "      <td>3</td>\n",
       "      <td>0.028901</td>\n",
       "      <td>Unsuitable</td>\n",
       "    </tr>\n",
       "    <tr>\n",
       "      <th>4</th>\n",
       "      <td>4</td>\n",
       "      <td>0.002753</td>\n",
       "      <td>Unsuitable</td>\n",
       "    </tr>\n",
       "    <tr>\n",
       "      <th>5</th>\n",
       "      <td>5</td>\n",
       "      <td>0.000105</td>\n",
       "      <td>Unsuitable</td>\n",
       "    </tr>\n",
       "  </tbody>\n",
       "</table>\n",
       "</div>"
      ],
      "text/plain": [
       "   Successes      Prob Type of Outcome\n",
       "0          0  0.418212        Suitable\n",
       "1          1  0.398297        Suitable\n",
       "2          2  0.151732      Unsuitable\n",
       "3          3  0.028901      Unsuitable\n",
       "4          4  0.002753      Unsuitable\n",
       "5          5  0.000105      Unsuitable"
      ]
     },
     "execution_count": 6,
     "metadata": {},
     "output_type": "execute_result"
    }
   ],
   "source": [
    "import numpy as np\n",
    "import pandas as pd\n",
    "from scipy.stats import binom\n",
    "\n",
    "# Binomial distribution in python \n",
    "\n",
    "#Setup n (number of trials) and p (probability of event happening in any given year)\n",
    "n, p = 5, 0.16\n",
    "\n",
    "#create an array of all success values we want to check, in this case all of them\n",
    "x = np.array(range(0,n+1))\n",
    "print(x)\n",
    "a = binom.pmf(x, n, p)\n",
    "#convert it into a pandas Data frame\n",
    "bData = pd.DataFrame(a, columns=[\"Prob\"]).reset_index().rename(columns={\"index\": \"Successes\"})\n",
    "bData[\"Type of Outcome\"] = np.where((bData[\"Successes\"] < 2), \"Suitable\", \"Unsuitable\")\n",
    "bData"
   ]
  },
  {
   "cell_type": "code",
   "execution_count": 7,
   "metadata": {},
   "outputs": [
    {
     "data": {
      "text/plain": [
       "<matplotlib.axes._subplots.AxesSubplot at 0x1a1f6c7f4e0>"
      ]
     },
     "execution_count": 7,
     "metadata": {},
     "output_type": "execute_result"
    },
    {
     "data": {
      "image/png": "[encoded data removed]",
      "text/plain": [
       "<Figure size 432x288 with 1 Axes>"
      ]
     },
     "metadata": {
      "needs_background": "light"
     },
     "output_type": "display_data"
    }
   ],
   "source": [
    "plt = bData[\"Prob\"].plot.bar()\n",
    "plt"
   ]
  },
  {
   "cell_type": "code",
   "execution_count": 8,
   "metadata": {
    "slideshow": {
     "slide_type": "slide"
    }
   },
   "outputs": [
    {
     "data": {
      "text/plain": [
       "0.8165090303999998"
      ]
     },
     "execution_count": 8,
     "metadata": {},
     "output_type": "execute_result"
    }
   ],
   "source": [
    "# What is the probability of less than 2 successes?\n",
    "# i.e. P(0) + P(1) + P(2)\n",
    "bData[\"Prob\"][0] + bData[\"Prob\"][1]"
   ]
  },
  {
   "cell_type": "code",
   "execution_count": 9,
   "metadata": {
    "slideshow": {
     "slide_type": "slide"
    }
   },
   "outputs": [
    {
     "data": {
      "text/html": [
       "<div>\n",
       "<style scoped>\n",
       "    .dataframe tbody tr th:only-of-type {\n",
       "        vertical-align: middle;\n",
       "    }\n",
       "\n",
       "    .dataframe tbody tr th {\n",
       "        vertical-align: top;\n",
       "    }\n",
       "\n",
       "    .dataframe thead tr th {\n",
       "        text-align: left;\n",
       "    }\n",
       "\n",
       "    .dataframe thead tr:last-of-type th {\n",
       "        text-align: right;\n",
       "    }\n",
       "</style>\n",
       "<table border=\"1\" class=\"dataframe\">\n",
       "  <thead>\n",
       "    <tr>\n",
       "      <th></th>\n",
       "      <th>Prob</th>\n",
       "    </tr>\n",
       "    <tr>\n",
       "      <th></th>\n",
       "      <th>sum</th>\n",
       "    </tr>\n",
       "    <tr>\n",
       "      <th>Type of Outcome</th>\n",
       "      <th></th>\n",
       "    </tr>\n",
       "  </thead>\n",
       "  <tbody>\n",
       "    <tr>\n",
       "      <th>Suitable</th>\n",
       "      <td>0.816509</td>\n",
       "    </tr>\n",
       "    <tr>\n",
       "      <th>Unsuitable</th>\n",
       "      <td>0.183491</td>\n",
       "    </tr>\n",
       "  </tbody>\n",
       "</table>\n",
       "</div>"
      ],
      "text/plain": [
       "                     Prob\n",
       "                      sum\n",
       "Type of Outcome          \n",
       "Suitable         0.816509\n",
       "Unsuitable       0.183491"
      ]
     },
     "execution_count": 9,
     "metadata": {},
     "output_type": "execute_result"
    }
   ],
   "source": [
    "bData[[\"Type of Outcome\", \"Prob\"]].groupby(\"Type of Outcome\").agg([\"sum\"])"
   ]
  },
  {
   "cell_type": "code",
   "execution_count": 10,
   "metadata": {
    "slideshow": {
     "slide_type": "slide"
    }
   },
   "outputs": [
    {
     "name": "stdout",
     "output_type": "stream",
     "text": [
      "[0 1 2 3 4 5]\n"
     ]
    },
    {
     "data": {
      "text/html": [
       "<div>\n",
       "<style scoped>\n",
       "    .dataframe tbody tr th:only-of-type {\n",
       "        vertical-align: middle;\n",
       "    }\n",
       "\n",
       "    .dataframe tbody tr th {\n",
       "        vertical-align: top;\n",
       "    }\n",
       "\n",
       "    .dataframe thead th {\n",
       "        text-align: right;\n",
       "    }\n",
       "</style>\n",
       "<table border=\"1\" class=\"dataframe\">\n",
       "  <thead>\n",
       "    <tr style=\"text-align: right;\">\n",
       "      <th></th>\n",
       "      <th>Successes</th>\n",
       "      <th>Prob</th>\n",
       "    </tr>\n",
       "  </thead>\n",
       "  <tbody>\n",
       "    <tr>\n",
       "      <th>0</th>\n",
       "      <td>0</td>\n",
       "      <td>0.000977</td>\n",
       "    </tr>\n",
       "    <tr>\n",
       "      <th>1</th>\n",
       "      <td>1</td>\n",
       "      <td>0.014648</td>\n",
       "    </tr>\n",
       "    <tr>\n",
       "      <th>2</th>\n",
       "      <td>2</td>\n",
       "      <td>0.087891</td>\n",
       "    </tr>\n",
       "    <tr>\n",
       "      <th>3</th>\n",
       "      <td>3</td>\n",
       "      <td>0.263672</td>\n",
       "    </tr>\n",
       "    <tr>\n",
       "      <th>4</th>\n",
       "      <td>4</td>\n",
       "      <td>0.395508</td>\n",
       "    </tr>\n",
       "    <tr>\n",
       "      <th>5</th>\n",
       "      <td>5</td>\n",
       "      <td>0.237305</td>\n",
       "    </tr>\n",
       "  </tbody>\n",
       "</table>\n",
       "</div>"
      ],
      "text/plain": [
       "   Successes      Prob\n",
       "0          0  0.000977\n",
       "1          1  0.014648\n",
       "2          2  0.087891\n",
       "3          3  0.263672\n",
       "4          4  0.395508\n",
       "5          5  0.237305"
      ]
     },
     "execution_count": 10,
     "metadata": {},
     "output_type": "execute_result"
    }
   ],
   "source": [
    "#Setup n (number of trials) and p (probability of event happening in any given year)\n",
    "n, p = 5, 0.75\n",
    "\n",
    "#create an array of all success values we want to check, in this case all of them\n",
    "x = np.array(range(0,n+1))\n",
    "print(x)\n",
    "a = binom.pmf(x, n, p)\n",
    "#convert it into a pandas Data frame\n",
    "bData = pd.DataFrame(a, columns=[\"Prob\"]).reset_index().rename(columns={\"index\": \"Successes\"})\n",
    "bData"
   ]
  },
  {
   "cell_type": "code",
   "execution_count": 11,
   "metadata": {
    "slideshow": {
     "slide_type": "slide"
    }
   },
   "outputs": [
    {
     "data": {
      "text/plain": [
       "<matplotlib.axes._subplots.AxesSubplot at 0x1a1f7f8e048>"
      ]
     },
     "execution_count": 11,
     "metadata": {},
     "output_type": "execute_result"
    },
    {
     "data": {
      "image/png": "[encoded data removed]",
      "text/plain": [
       "<Figure size 432x288 with 1 Axes>"
      ]
     },
     "metadata": {
      "needs_background": "light"
     },
     "output_type": "display_data"
    }
   ],
   "source": [
    "plt = bData[\"Prob\"].plot.bar()\n",
    "plt"
   ]
  },
  {
   "cell_type": "code",
   "execution_count": 12,
   "metadata": {
    "slideshow": {
     "slide_type": "slide"
    }
   },
   "outputs": [
    {
     "data": {
      "text/plain": [
       "0.015624999999999993"
      ]
     },
     "execution_count": 12,
     "metadata": {},
     "output_type": "execute_result"
    }
   ],
   "source": [
    "# In this case, what is the probability of less than 2 successes?\n",
    "# i.e. P(0) + P(1) + P(2)\n",
    "bData[\"Prob\"][0] + bData[\"Prob\"][1]"
   ]
  },
  {
   "cell_type": "code",
   "execution_count": 13,
   "metadata": {
    "slideshow": {
     "slide_type": "slide"
    }
   },
   "outputs": [
    {
     "data": {
      "text/plain": [
       "(array([1, 0, 1, 0, 0, 1, 1, 0, 0, 1]), 0.5)"
      ]
     },
     "execution_count": 13,
     "metadata": {},
     "output_type": "execute_result"
    }
   ],
   "source": [
    "# You can also simulate actually living through a certain number of trials in Python\n",
    "n, p = 5, 0.16\n",
    "trials = np.random.binomial(n, p, 10)\n",
    "trials, (trials == 1).sum() / 10"
   ]
  },
  {
   "cell_type": "markdown",
   "metadata": {
    "slideshow": {
     "slide_type": "slide"
    }
   },
   "source": [
    "### Geometric Distribution\n",
    "* The geometric distribution is focused on the exact number of consecutive trials necessary to observe an event or outcome.\n",
    "* If I lived in an area for x years what is the likelihood that I would live through a hurricane?\n",
    "* $$ (1-p)^{k-1}p $$\n"
   ]
  },
  {
   "cell_type": "markdown",
   "metadata": {
    "slideshow": {
     "slide_type": "slide"
    }
   },
   "source": [
    "<table>\n",
    "<tr>\n",
    "<td>\n",
    "<img src=\"../figures/book/McGrew-et-al_3E---Figure-5-5.jpg\" alt=\"Figure 5.5\" width=\"350\"/>\n",
    "    </td>\n",
    "<td>\n",
    "<img src=\"../figures/book/McGrew-et-al_3E---Figure-5-6.jpg\" alt=\"Figure 5.6\" width=\"350\"/>\n",
    "    </td>    \n",
    "</tr>\n",
    "</table>"
   ]
  },
  {
   "cell_type": "code",
   "execution_count": 10,
   "metadata": {
    "slideshow": {
     "slide_type": "slide"
    }
   },
   "outputs": [
    {
     "data": {
      "text/html": [
       "<div>\n",
       "<style scoped>\n",
       "    .dataframe tbody tr th:only-of-type {\n",
       "        vertical-align: middle;\n",
       "    }\n",
       "\n",
       "    .dataframe tbody tr th {\n",
       "        vertical-align: top;\n",
       "    }\n",
       "\n",
       "    .dataframe thead th {\n",
       "        text-align: right;\n",
       "    }\n",
       "</style>\n",
       "<table border=\"1\" class=\"dataframe\">\n",
       "  <thead>\n",
       "    <tr style=\"text-align: right;\">\n",
       "      <th></th>\n",
       "      <th>Number of Trials</th>\n",
       "      <th>Prob</th>\n",
       "      <th>Cumulative_Prob</th>\n",
       "    </tr>\n",
       "  </thead>\n",
       "  <tbody>\n",
       "    <tr>\n",
       "      <th>0</th>\n",
       "      <td>1</td>\n",
       "      <td>0.140000</td>\n",
       "      <td>0.140000</td>\n",
       "    </tr>\n",
       "    <tr>\n",
       "      <th>1</th>\n",
       "      <td>2</td>\n",
       "      <td>0.120400</td>\n",
       "      <td>0.260400</td>\n",
       "    </tr>\n",
       "    <tr>\n",
       "      <th>2</th>\n",
       "      <td>3</td>\n",
       "      <td>0.103544</td>\n",
       "      <td>0.363944</td>\n",
       "    </tr>\n",
       "    <tr>\n",
       "      <th>3</th>\n",
       "      <td>4</td>\n",
       "      <td>0.089048</td>\n",
       "      <td>0.452992</td>\n",
       "    </tr>\n",
       "    <tr>\n",
       "      <th>4</th>\n",
       "      <td>5</td>\n",
       "      <td>0.076581</td>\n",
       "      <td>0.529573</td>\n",
       "    </tr>\n",
       "    <tr>\n",
       "      <th>5</th>\n",
       "      <td>6</td>\n",
       "      <td>0.065860</td>\n",
       "      <td>0.595433</td>\n",
       "    </tr>\n",
       "    <tr>\n",
       "      <th>6</th>\n",
       "      <td>7</td>\n",
       "      <td>0.056639</td>\n",
       "      <td>0.652072</td>\n",
       "    </tr>\n",
       "    <tr>\n",
       "      <th>7</th>\n",
       "      <td>8</td>\n",
       "      <td>0.048710</td>\n",
       "      <td>0.700782</td>\n",
       "    </tr>\n",
       "    <tr>\n",
       "      <th>8</th>\n",
       "      <td>9</td>\n",
       "      <td>0.041891</td>\n",
       "      <td>0.742673</td>\n",
       "    </tr>\n",
       "    <tr>\n",
       "      <th>9</th>\n",
       "      <td>10</td>\n",
       "      <td>0.036026</td>\n",
       "      <td>0.778698</td>\n",
       "    </tr>\n",
       "    <tr>\n",
       "      <th>10</th>\n",
       "      <td>11</td>\n",
       "      <td>0.030982</td>\n",
       "      <td>0.809681</td>\n",
       "    </tr>\n",
       "    <tr>\n",
       "      <th>11</th>\n",
       "      <td>12</td>\n",
       "      <td>0.026645</td>\n",
       "      <td>0.836325</td>\n",
       "    </tr>\n",
       "    <tr>\n",
       "      <th>12</th>\n",
       "      <td>13</td>\n",
       "      <td>0.022914</td>\n",
       "      <td>0.859240</td>\n",
       "    </tr>\n",
       "    <tr>\n",
       "      <th>13</th>\n",
       "      <td>14</td>\n",
       "      <td>0.019706</td>\n",
       "      <td>0.878946</td>\n",
       "    </tr>\n",
       "    <tr>\n",
       "      <th>14</th>\n",
       "      <td>15</td>\n",
       "      <td>0.016948</td>\n",
       "      <td>0.895894</td>\n",
       "    </tr>\n",
       "    <tr>\n",
       "      <th>15</th>\n",
       "      <td>16</td>\n",
       "      <td>0.014575</td>\n",
       "      <td>0.910469</td>\n",
       "    </tr>\n",
       "    <tr>\n",
       "      <th>16</th>\n",
       "      <td>17</td>\n",
       "      <td>0.012534</td>\n",
       "      <td>0.923003</td>\n",
       "    </tr>\n",
       "    <tr>\n",
       "      <th>17</th>\n",
       "      <td>18</td>\n",
       "      <td>0.010780</td>\n",
       "      <td>0.933783</td>\n",
       "    </tr>\n",
       "    <tr>\n",
       "      <th>18</th>\n",
       "      <td>19</td>\n",
       "      <td>0.009270</td>\n",
       "      <td>0.943053</td>\n",
       "    </tr>\n",
       "    <tr>\n",
       "      <th>19</th>\n",
       "      <td>20</td>\n",
       "      <td>0.007973</td>\n",
       "      <td>0.951026</td>\n",
       "    </tr>\n",
       "  </tbody>\n",
       "</table>\n",
       "</div>"
      ],
      "text/plain": [
       "    Number of Trials      Prob  Cumulative_Prob\n",
       "0                  1  0.140000         0.140000\n",
       "1                  2  0.120400         0.260400\n",
       "2                  3  0.103544         0.363944\n",
       "3                  4  0.089048         0.452992\n",
       "4                  5  0.076581         0.529573\n",
       "5                  6  0.065860         0.595433\n",
       "6                  7  0.056639         0.652072\n",
       "7                  8  0.048710         0.700782\n",
       "8                  9  0.041891         0.742673\n",
       "9                 10  0.036026         0.778698\n",
       "10                11  0.030982         0.809681\n",
       "11                12  0.026645         0.836325\n",
       "12                13  0.022914         0.859240\n",
       "13                14  0.019706         0.878946\n",
       "14                15  0.016948         0.895894\n",
       "15                16  0.014575         0.910469\n",
       "16                17  0.012534         0.923003\n",
       "17                18  0.010780         0.933783\n",
       "18                19  0.009270         0.943053\n",
       "19                20  0.007973         0.951026"
      ]
     },
     "execution_count": 10,
     "metadata": {},
     "output_type": "execute_result"
    }
   ],
   "source": [
    "from scipy.stats import geom\n",
    "import numpy as np\n",
    "import pandas as pd\n",
    "#Setup n (number of trials) and p (probability of event happening in any given year)\n",
    "p = 0.14\n",
    "\n",
    "#create an array of all success values we want to check, in this case all of them\n",
    "k = np.array(range(1,20+1))\n",
    "a = geom.pmf(k, p)\n",
    "\n",
    "#convert it into a pandas Data frame\n",
    "#Prob column represents the probability that the event will occur in that trail (flooding occur that year)\n",
    "gData = pd.DataFrame(a, columns=[\"Prob\"]).reset_index().rename(columns={\"index\": \"Number of Trials\"})\n",
    "gData[\"Number of Trials\"] += 1\n",
    "#Cululative Prob is represents the probability that the event will occur in that trail or any previous trial \n",
    "# (flooding in that year or sooner)\n",
    "# Remember Adding is the way to \n",
    "gData['Cumulative_Prob'] = gData['Prob'].cumsum()\n",
    "gData"
   ]
  },
  {
   "cell_type": "markdown",
   "metadata": {
    "slideshow": {
     "slide_type": "slide"
    }
   },
   "source": [
    "### Poisson Distribution\n",
    "* Can be used to analyze how frequently an outcome occurs during a certain time period or across a particular area.\n",
    "* You must know the mean frequency as input. (How often it occurs on average in one trial)"
   ]
  },
  {
   "cell_type": "markdown",
   "metadata": {},
   "source": [
    "$$ P(X) = \\dfrac{e^{-\\lambda}(\\lambda^{X})}{X!} = \\dfrac{\\lambda^{X}}{e^{\\lambda}(X!)} $$\n",
    "Where:  \n",
    "X = Frequency of occurrence  \n",
    "$\\lambda$ = Mean frequency of occurrence  \n",
    "e = base of the natural logarithm (approx. 2.71828)  "
   ]
  },
  {
   "cell_type": "markdown",
   "metadata": {
    "slideshow": {
     "slide_type": "slide"
    }
   },
   "source": [
    "\n",
    "<img src=\"../figures/book/McGrew-et-al_3E---Figure-5-7.jpg\" alt=\"Figure 5.7\" width=\"300\"/>\n",
    "\n"
   ]
  },
  {
   "cell_type": "markdown",
   "metadata": {
    "slideshow": {
     "slide_type": "slide"
    }
   },
   "source": [
    "### Poisson distribution\n",
    "The shape of the distribution depends strongly upon the value of λ, because as λ increases, the distribution becomes less skewed, eventually approaching a normal-shaped distribution as it gets quite large."
   ]
  },
  {
   "cell_type": "code",
   "execution_count": 15,
   "metadata": {
    "slideshow": {
     "slide_type": "slide"
    }
   },
   "outputs": [
    {
     "data": {
      "text/html": [
       "<div>\n",
       "<style scoped>\n",
       "    .dataframe tbody tr th:only-of-type {\n",
       "        vertical-align: middle;\n",
       "    }\n",
       "\n",
       "    .dataframe tbody tr th {\n",
       "        vertical-align: top;\n",
       "    }\n",
       "\n",
       "    .dataframe thead th {\n",
       "        text-align: right;\n",
       "    }\n",
       "</style>\n",
       "<table border=\"1\" class=\"dataframe\">\n",
       "  <thead>\n",
       "    <tr style=\"text-align: right;\">\n",
       "      <th></th>\n",
       "      <th>Freq</th>\n",
       "      <th>Prob</th>\n",
       "    </tr>\n",
       "  </thead>\n",
       "  <tbody>\n",
       "    <tr>\n",
       "      <th>0</th>\n",
       "      <td>0</td>\n",
       "      <td>7.502004e-02</td>\n",
       "    </tr>\n",
       "    <tr>\n",
       "      <th>1</th>\n",
       "      <td>1</td>\n",
       "      <td>1.943019e-01</td>\n",
       "    </tr>\n",
       "    <tr>\n",
       "      <th>2</th>\n",
       "      <td>2</td>\n",
       "      <td>2.516210e-01</td>\n",
       "    </tr>\n",
       "    <tr>\n",
       "      <th>3</th>\n",
       "      <td>3</td>\n",
       "      <td>2.172328e-01</td>\n",
       "    </tr>\n",
       "    <tr>\n",
       "      <th>4</th>\n",
       "      <td>4</td>\n",
       "      <td>1.406582e-01</td>\n",
       "    </tr>\n",
       "    <tr>\n",
       "      <th>5</th>\n",
       "      <td>5</td>\n",
       "      <td>7.286096e-02</td>\n",
       "    </tr>\n",
       "    <tr>\n",
       "      <th>6</th>\n",
       "      <td>6</td>\n",
       "      <td>3.145165e-02</td>\n",
       "    </tr>\n",
       "    <tr>\n",
       "      <th>7</th>\n",
       "      <td>7</td>\n",
       "      <td>1.163711e-02</td>\n",
       "    </tr>\n",
       "    <tr>\n",
       "      <th>8</th>\n",
       "      <td>8</td>\n",
       "      <td>3.767514e-03</td>\n",
       "    </tr>\n",
       "    <tr>\n",
       "      <th>9</th>\n",
       "      <td>9</td>\n",
       "      <td>1.084207e-03</td>\n",
       "    </tr>\n",
       "    <tr>\n",
       "      <th>10</th>\n",
       "      <td>10</td>\n",
       "      <td>2.808096e-04</td>\n",
       "    </tr>\n",
       "    <tr>\n",
       "      <th>11</th>\n",
       "      <td>11</td>\n",
       "      <td>6.611789e-05</td>\n",
       "    </tr>\n",
       "    <tr>\n",
       "      <th>12</th>\n",
       "      <td>12</td>\n",
       "      <td>1.427044e-05</td>\n",
       "    </tr>\n",
       "    <tr>\n",
       "      <th>13</th>\n",
       "      <td>13</td>\n",
       "      <td>2.843112e-06</td>\n",
       "    </tr>\n",
       "    <tr>\n",
       "      <th>14</th>\n",
       "      <td>14</td>\n",
       "      <td>5.259756e-07</td>\n",
       "    </tr>\n",
       "    <tr>\n",
       "      <th>15</th>\n",
       "      <td>15</td>\n",
       "      <td>9.081846e-08</td>\n",
       "    </tr>\n",
       "    <tr>\n",
       "      <th>16</th>\n",
       "      <td>16</td>\n",
       "      <td>1.470124e-08</td>\n",
       "    </tr>\n",
       "    <tr>\n",
       "      <th>17</th>\n",
       "      <td>17</td>\n",
       "      <td>2.239777e-09</td>\n",
       "    </tr>\n",
       "    <tr>\n",
       "      <th>18</th>\n",
       "      <td>18</td>\n",
       "      <td>3.222790e-10</td>\n",
       "    </tr>\n",
       "    <tr>\n",
       "      <th>19</th>\n",
       "      <td>19</td>\n",
       "      <td>4.393172e-11</td>\n",
       "    </tr>\n",
       "  </tbody>\n",
       "</table>\n",
       "</div>"
      ],
      "text/plain": [
       "    Freq          Prob\n",
       "0      0  7.502004e-02\n",
       "1      1  1.943019e-01\n",
       "2      2  2.516210e-01\n",
       "3      3  2.172328e-01\n",
       "4      4  1.406582e-01\n",
       "5      5  7.286096e-02\n",
       "6      6  3.145165e-02\n",
       "7      7  1.163711e-02\n",
       "8      8  3.767514e-03\n",
       "9      9  1.084207e-03\n",
       "10    10  2.808096e-04\n",
       "11    11  6.611789e-05\n",
       "12    12  1.427044e-05\n",
       "13    13  2.843112e-06\n",
       "14    14  5.259756e-07\n",
       "15    15  9.081846e-08\n",
       "16    16  1.470124e-08\n",
       "17    17  2.239777e-09\n",
       "18    18  3.222790e-10\n",
       "19    19  4.393172e-11"
      ]
     },
     "execution_count": 15,
     "metadata": {},
     "output_type": "execute_result"
    }
   ],
   "source": [
    "from scipy.stats import poisson\n",
    "\n",
    "lam = 2.59 #average frequency of occurance\n",
    "x = np.array(range(0,20)) #test range from 0 - 10\n",
    "\n",
    "a = poisson.pmf(x,lam)\n",
    "\n",
    "#convert it into a pandas Data frame\n",
    "pData = pd.DataFrame(a, columns=[\"Prob\"]).reset_index().rename(columns={\"index\": \"Freq\"})\n",
    "pData\n"
   ]
  },
  {
   "cell_type": "markdown",
   "metadata": {
    "slideshow": {
     "slide_type": "slide"
    }
   },
   "source": [
    "### Poisson Uses and Assumptions:\n",
    "* It is used to count the number of occurrences of an event within a given unit of time, area, volume, etc. (therefore a discrete distribution)\n",
    "* The mean or expected number of events per unit (λ) is found by past experience (observations)"
   ]
  },
  {
   "cell_type": "markdown",
   "metadata": {
    "slideshow": {
     "slide_type": "slide"
    }
   },
   "source": [
    "### Poisson Uses and Assumptions\n",
    "* The probability that an event will occur within a given unit must be the same for all units (i.e. the underlying process governing the phenomenon must be invariant)\n",
    "* The number of events occurring per unit must be independent of the number of events occurring in other units (no interactions)\n",
    "\n",
    "\n"
   ]
  },
  {
   "cell_type": "markdown",
   "metadata": {
    "slideshow": {
     "slide_type": "slide"
    }
   },
   "source": [
    "### Poisson Applications:\n",
    "* The Poisson distribution is sometimes known as the Law of Small Numbers, because it describes the behavior of events that are rare\n",
    "* We can observe the frequency of some rare phenomenon, find its mean occurrence, and then construct a Poisson distribution and compare our observed values to those from the distribution (effectively expected values) to see the degree to which our observed phenomenon is obeying the Law of Small Numbers."
   ]
  },
  {
   "cell_type": "markdown",
   "metadata": {
    "slideshow": {
     "slide_type": "slide"
    }
   },
   "source": [
    "### Geographic Example\n",
    "* Is this set of very large wildfires across New Mexico randomly distributed?\n",
    "* We can use the Poisson Distribution to find out!\n",
    "<img src=\"../figures/book/McGrew-et-al_3E---Figure-5-10.jpg\" alt=\"Figure 5.10\" width=\"300\"/>"
   ]
  },
  {
   "cell_type": "code",
   "execution_count": null,
   "metadata": {
    "slideshow": {
     "slide_type": "slide"
    }
   },
   "outputs": [],
   "source": []
  }
 ],
 "metadata": {
  "celltoolbar": "Slideshow",
  "kernelspec": {
   "display_name": "Python 3",
   "language": "python",
   "name": "python3"
  },
  "language_info": {
   "codemirror_mode": {
    "name": "ipython",
    "version": 3
   },
   "file_extension": ".py",
   "mimetype": "text/x-python",
   "name": "python",
   "nbconvert_exporter": "python",
   "pygments_lexer": "ipython3",
   "version": "3.6.8"
  }
 },
 "nbformat": 4,
 "nbformat_minor": 2
}
