{
 "cells": [
  {
   "cell_type": "code",
   "execution_count": 1,
   "metadata": {},
   "outputs": [
    {
     "data": {
      "text/html": [
       "<div>\n",
       "<style scoped>\n",
       "    .dataframe tbody tr th:only-of-type {\n",
       "        vertical-align: middle;\n",
       "    }\n",
       "\n",
       "    .dataframe tbody tr th {\n",
       "        vertical-align: top;\n",
       "    }\n",
       "\n",
       "    .dataframe thead th {\n",
       "        text-align: right;\n",
       "    }\n",
       "</style>\n",
       "<table border=\"1\" class=\"dataframe\">\n",
       "  <thead>\n",
       "    <tr style=\"text-align: right;\">\n",
       "      <th></th>\n",
       "      <th>OBJECTID</th>\n",
       "      <th>SID</th>\n",
       "      <th>Station</th>\n",
       "      <th>AvgDLSpF</th>\n",
       "      <th>Latitude</th>\n",
       "      <th>Longitude</th>\n",
       "      <th>Elevation</th>\n",
       "      <th>DisttoCoas</th>\n",
       "      <th>SHAPE</th>\n",
       "    </tr>\n",
       "  </thead>\n",
       "  <tbody>\n",
       "    <tr>\n",
       "      <td>0</td>\n",
       "      <td>1</td>\n",
       "      <td>1.0</td>\n",
       "      <td>Edenton, NC</td>\n",
       "      <td>85.27</td>\n",
       "      <td>36.02</td>\n",
       "      <td>-76.55</td>\n",
       "      <td>10.0</td>\n",
       "      <td>1.252000</td>\n",
       "      <td>{'x': 1725088.8095999993, 'y': 11341.914599999...</td>\n",
       "    </tr>\n",
       "    <tr>\n",
       "      <td>1</td>\n",
       "      <td>2</td>\n",
       "      <td>2.0</td>\n",
       "      <td>Hopewell, VA</td>\n",
       "      <td>96.00</td>\n",
       "      <td>37.30</td>\n",
       "      <td>-77.28</td>\n",
       "      <td>40.0</td>\n",
       "      <td>46.268000</td>\n",
       "      <td>{'x': 1633134.5571000017, 'y': 138958.56949999...</td>\n",
       "    </tr>\n",
       "    <tr>\n",
       "      <td>2</td>\n",
       "      <td>3</td>\n",
       "      <td>3.0</td>\n",
       "      <td>Tarboro, NC</td>\n",
       "      <td>93.22</td>\n",
       "      <td>35.88</td>\n",
       "      <td>-77.53</td>\n",
       "      <td>35.0</td>\n",
       "      <td>45.256000</td>\n",
       "      <td>{'x': 1642323.759399999, 'y': -21387.174599999...</td>\n",
       "    </tr>\n",
       "    <tr>\n",
       "      <td>3</td>\n",
       "      <td>4</td>\n",
       "      <td>4.0</td>\n",
       "      <td>Kinston, NC</td>\n",
       "      <td>91.44</td>\n",
       "      <td>35.20</td>\n",
       "      <td>-77.55</td>\n",
       "      <td>24.0</td>\n",
       "      <td>45.426000</td>\n",
       "      <td>{'x': 1655253.2974999994, 'y': -96422.66469999...</td>\n",
       "    </tr>\n",
       "    <tr>\n",
       "      <td>4</td>\n",
       "      <td>5</td>\n",
       "      <td>5.0</td>\n",
       "      <td>Southport, NC</td>\n",
       "      <td>82.85</td>\n",
       "      <td>33.92</td>\n",
       "      <td>-78.02</td>\n",
       "      <td>20.0</td>\n",
       "      <td>3.418000</td>\n",
       "      <td>{'x': 1640519.1022999994, 'y': -245095.4436999...</td>\n",
       "    </tr>\n",
       "    <tr>\n",
       "      <td>...</td>\n",
       "      <td>...</td>\n",
       "      <td>...</td>\n",
       "      <td>...</td>\n",
       "      <td>...</td>\n",
       "      <td>...</td>\n",
       "      <td>...</td>\n",
       "      <td>...</td>\n",
       "      <td>...</td>\n",
       "      <td>...</td>\n",
       "    </tr>\n",
       "    <tr>\n",
       "      <td>71</td>\n",
       "      <td>72</td>\n",
       "      <td>72.0</td>\n",
       "      <td>Troy, AL</td>\n",
       "      <td>74.41</td>\n",
       "      <td>31.80</td>\n",
       "      <td>-85.97</td>\n",
       "      <td>542.0</td>\n",
       "      <td>103.576073</td>\n",
       "      <td>{'x': 943843.2164999992, 'y': -587431.12139999...</td>\n",
       "    </tr>\n",
       "    <tr>\n",
       "      <td>72</td>\n",
       "      <td>73</td>\n",
       "      <td>73.0</td>\n",
       "      <td>Scottsboro, AL</td>\n",
       "      <td>98.02</td>\n",
       "      <td>34.67</td>\n",
       "      <td>-86.05</td>\n",
       "      <td>615.0</td>\n",
       "      <td>298.914000</td>\n",
       "      <td>{'x': 902859.7817000002, 'y': -269594.04839999...</td>\n",
       "    </tr>\n",
       "    <tr>\n",
       "      <td>73</td>\n",
       "      <td>74</td>\n",
       "      <td>74.0</td>\n",
       "      <td>De Funiak Springs, FL</td>\n",
       "      <td>71.33</td>\n",
       "      <td>30.72</td>\n",
       "      <td>-86.10</td>\n",
       "      <td>245.0</td>\n",
       "      <td>29.394000</td>\n",
       "      <td>{'x': 944149.9701999985, 'y': -708227.2242, 'z...</td>\n",
       "    </tr>\n",
       "    <tr>\n",
       "      <td>74</td>\n",
       "      <td>75</td>\n",
       "      <td>75.0</td>\n",
       "      <td>Talladega, AL</td>\n",
       "      <td>97.83</td>\n",
       "      <td>33.42</td>\n",
       "      <td>-86.13</td>\n",
       "      <td>448.0</td>\n",
       "      <td>212.841000</td>\n",
       "      <td>{'x': 910110.1387000009, 'y': -409301.58449999...</td>\n",
       "    </tr>\n",
       "    <tr>\n",
       "      <td>75</td>\n",
       "      <td>76</td>\n",
       "      <td>76.0</td>\n",
       "      <td>Saint Bernard, AL</td>\n",
       "      <td>99.85</td>\n",
       "      <td>34.17</td>\n",
       "      <td>-86.82</td>\n",
       "      <td>800.0</td>\n",
       "      <td>252.062000</td>\n",
       "      <td>{'x': 838609.0474999994, 'y': -332274.13090000...</td>\n",
       "    </tr>\n",
       "  </tbody>\n",
       "</table>\n",
       "<p>76 rows × 9 columns</p>\n",
       "</div>"
      ],
      "text/plain": [
       "    OBJECTID   SID                Station  AvgDLSpF  Latitude  Longitude  \\\n",
       "0          1   1.0            Edenton, NC     85.27     36.02     -76.55   \n",
       "1          2   2.0           Hopewell, VA     96.00     37.30     -77.28   \n",
       "2          3   3.0            Tarboro, NC     93.22     35.88     -77.53   \n",
       "3          4   4.0            Kinston, NC     91.44     35.20     -77.55   \n",
       "4          5   5.0          Southport, NC     82.85     33.92     -78.02   \n",
       "..       ...   ...                    ...       ...       ...        ...   \n",
       "71        72  72.0               Troy, AL     74.41     31.80     -85.97   \n",
       "72        73  73.0         Scottsboro, AL     98.02     34.67     -86.05   \n",
       "73        74  74.0  De Funiak Springs, FL     71.33     30.72     -86.10   \n",
       "74        75  75.0          Talladega, AL     97.83     33.42     -86.13   \n",
       "75        76  76.0      Saint Bernard, AL     99.85     34.17     -86.82   \n",
       "\n",
       "    Elevation  DisttoCoas                                              SHAPE  \n",
       "0        10.0    1.252000  {'x': 1725088.8095999993, 'y': 11341.914599999...  \n",
       "1        40.0   46.268000  {'x': 1633134.5571000017, 'y': 138958.56949999...  \n",
       "2        35.0   45.256000  {'x': 1642323.759399999, 'y': -21387.174599999...  \n",
       "3        24.0   45.426000  {'x': 1655253.2974999994, 'y': -96422.66469999...  \n",
       "4        20.0    3.418000  {'x': 1640519.1022999994, 'y': -245095.4436999...  \n",
       "..        ...         ...                                                ...  \n",
       "71      542.0  103.576073  {'x': 943843.2164999992, 'y': -587431.12139999...  \n",
       "72      615.0  298.914000  {'x': 902859.7817000002, 'y': -269594.04839999...  \n",
       "73      245.0   29.394000  {'x': 944149.9701999985, 'y': -708227.2242, 'z...  \n",
       "74      448.0  212.841000  {'x': 910110.1387000009, 'y': -409301.58449999...  \n",
       "75      800.0  252.062000  {'x': 838609.0474999994, 'y': -332274.13090000...  \n",
       "\n",
       "[76 rows x 9 columns]"
      ]
     },
     "execution_count": 1,
     "metadata": {},
     "output_type": "execute_result"
    }
   ],
   "source": [
    "import pandas as pd\n",
    "import numpy as np\n",
    "from arcgis.features import GeoAccessor, GeoSeriesAccessor\n",
    "import matplotlib.pyplot as plt\n",
    "from scipy import stats\n",
    "\n",
    "sdf = pd.DataFrame.spatial.from_featureclass(\"Chapter16_17.gdb\\DLSF_Data_SE\")\n",
    "sdf "
   ]
  },
  {
   "cell_type": "code",
   "execution_count": 7,
   "metadata": {},
   "outputs": [
    {
     "data": {
      "image/png": "[encoded data removed]",
      "text/plain": [
       "<Figure size 720x720 with 1 Axes>"
      ]
     },
     "metadata": {
      "needs_background": "light"
     },
     "output_type": "display_data"
    }
   ],
   "source": [
    "ax1 = sdf.plot.scatter(x=\"Elevation\",y=\"AvgDLSpF\",c='DarkBlue', figsize=(10,10)) "
   ]
  },
  {
   "cell_type": "code",
   "execution_count": 8,
   "metadata": {},
   "outputs": [
    {
     "name": "stdout",
     "output_type": "stream",
     "text": [
      "r: 0.5991347265567446\n",
      "pvalue: 1.0797980301693878e-08\n"
     ]
    }
   ],
   "source": [
    "r, pvalue = stats.pearsonr(sdf[\"Elevation\"], sdf[\"AvgDLSpF\"])\n",
    "print(\"r:\", r)\n",
    "print(\"pvalue:\", pvalue)"
   ]
  },
  {
   "cell_type": "code",
   "execution_count": 9,
   "metadata": {},
   "outputs": [
    {
     "data": {
      "text/plain": [
       "[<matplotlib.lines.Line2D at 0x26cf8acef28>]"
      ]
     },
     "execution_count": 9,
     "metadata": {},
     "output_type": "execute_result"
    },
    {
     "data": {
      "image/png": "[encoded data removed]",
      "text/plain": [
       "<Figure size 720x720 with 1 Axes>"
      ]
     },
     "metadata": {
      "needs_background": "light"
     },
     "output_type": "display_data"
    }
   ],
   "source": [
    "ax1 = sdf.plot.scatter(x=\"Elevation\",y=\"AvgDLSpF\",c='DarkBlue', figsize=(10,10)) \n",
    "x = sdf.Elevation\n",
    "y = sdf.AvgDLSpF\n",
    "\n",
    "regressStats = stats.linregress(x, y)\n",
    "m = regressStats.slope\n",
    "b = regressStats.intercept\n",
    "plt.plot(x, m * x + b, color=\"red\")"
   ]
  },
  {
   "cell_type": "code",
   "execution_count": 10,
   "metadata": {},
   "outputs": [
    {
     "data": {
      "text/plain": [
       "LinregressResult(slope=0.015746896932265855, intercept=80.47059354907658, rvalue=0.5991347265567445, pvalue=1.0797980301693904e-08, stderr=0.0024462248713401583)"
      ]
     },
     "execution_count": 10,
     "metadata": {},
     "output_type": "execute_result"
    }
   ],
   "source": [
    "regressStats"
   ]
  },
  {
   "cell_type": "code",
   "execution_count": 11,
   "metadata": {},
   "outputs": [
    {
     "name": "stdout",
     "output_type": "stream",
     "text": [
      "R-squared: 0.358962\n"
     ]
    }
   ],
   "source": [
    "print(\"R-squared: %f\" % regressStats.rvalue**2)"
   ]
  },
  {
   "cell_type": "code",
   "execution_count": null,
   "metadata": {},
   "outputs": [],
   "source": []
  }
 ],
 "metadata": {
  "kernelspec": {
   "display_name": "Python 3",
   "language": "python",
   "name": "python3"
  },
  "language_info": {
   "codemirror_mode": {
    "name": "ipython",
    "version": 3
   },
   "file_extension": ".py",
   "mimetype": "text/x-python",
   "name": "python",
   "nbconvert_exporter": "python",
   "pygments_lexer": "ipython3",
   "version": "3.6.9"
  }
 },
 "nbformat": 4,
 "nbformat_minor": 2
}
