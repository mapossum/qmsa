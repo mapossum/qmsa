{
 "cells": [
  {
   "cell_type": "code",
   "execution_count": 2,
   "metadata": {},
   "outputs": [
    {
     "data": {
      "text/html": [
       "<div>\n",
       "<style scoped>\n",
       "    .dataframe tbody tr th:only-of-type {\n",
       "        vertical-align: middle;\n",
       "    }\n",
       "\n",
       "    .dataframe tbody tr th {\n",
       "        vertical-align: top;\n",
       "    }\n",
       "\n",
       "    .dataframe thead th {\n",
       "        text-align: right;\n",
       "    }\n",
       "</style>\n",
       "<table border=\"1\" class=\"dataframe\">\n",
       "  <thead>\n",
       "    <tr style=\"text-align: right;\">\n",
       "      <th></th>\n",
       "      <th>TDP</th>\n",
       "      <th>Year</th>\n",
       "      <th>Location</th>\n",
       "    </tr>\n",
       "  </thead>\n",
       "  <tbody>\n",
       "    <tr>\n",
       "      <td>0</td>\n",
       "      <td>0.031318</td>\n",
       "      <td>2012</td>\n",
       "      <td>Lower</td>\n",
       "    </tr>\n",
       "    <tr>\n",
       "      <td>1</td>\n",
       "      <td>0.014041</td>\n",
       "      <td>2012</td>\n",
       "      <td>Lower</td>\n",
       "    </tr>\n",
       "    <tr>\n",
       "      <td>2</td>\n",
       "      <td>0.012891</td>\n",
       "      <td>2012</td>\n",
       "      <td>Lower</td>\n",
       "    </tr>\n",
       "    <tr>\n",
       "      <td>3</td>\n",
       "      <td>0.000907</td>\n",
       "      <td>2012</td>\n",
       "      <td>Lower</td>\n",
       "    </tr>\n",
       "    <tr>\n",
       "      <td>4</td>\n",
       "      <td>0.026535</td>\n",
       "      <td>2012</td>\n",
       "      <td>Lower</td>\n",
       "    </tr>\n",
       "    <tr>\n",
       "      <td>...</td>\n",
       "      <td>...</td>\n",
       "      <td>...</td>\n",
       "      <td>...</td>\n",
       "    </tr>\n",
       "    <tr>\n",
       "      <td>1390</td>\n",
       "      <td>0.008554</td>\n",
       "      <td>2014</td>\n",
       "      <td>Lower</td>\n",
       "    </tr>\n",
       "    <tr>\n",
       "      <td>1391</td>\n",
       "      <td>0.001479</td>\n",
       "      <td>2014</td>\n",
       "      <td>Lower</td>\n",
       "    </tr>\n",
       "    <tr>\n",
       "      <td>1392</td>\n",
       "      <td>0.007442</td>\n",
       "      <td>2014</td>\n",
       "      <td>Lower</td>\n",
       "    </tr>\n",
       "    <tr>\n",
       "      <td>1393</td>\n",
       "      <td>0.004051</td>\n",
       "      <td>2014</td>\n",
       "      <td>Lower</td>\n",
       "    </tr>\n",
       "    <tr>\n",
       "      <td>1394</td>\n",
       "      <td>0.001290</td>\n",
       "      <td>2014</td>\n",
       "      <td>Lower</td>\n",
       "    </tr>\n",
       "  </tbody>\n",
       "</table>\n",
       "<p>1395 rows × 3 columns</p>\n",
       "</div>"
      ],
      "text/plain": [
       "           TDP  Year Location\n",
       "0     0.031318  2012    Lower\n",
       "1     0.014041  2012    Lower\n",
       "2     0.012891  2012    Lower\n",
       "3     0.000907  2012    Lower\n",
       "4     0.026535  2012    Lower\n",
       "...        ...   ...      ...\n",
       "1390  0.008554  2014    Lower\n",
       "1391  0.001479  2014    Lower\n",
       "1392  0.007442  2014    Lower\n",
       "1393  0.004051  2014    Lower\n",
       "1394  0.001290  2014    Lower\n",
       "\n",
       "[1395 rows x 3 columns]"
      ]
     },
     "execution_count": 2,
     "metadata": {},
     "output_type": "execute_result"
    }
   ],
   "source": [
    "# Read Total Dissolved Phospherous Table\n",
    "import pandas as pd\n",
    "CBData = pd.read_excel('Chapter11.xlsx', sheet_name=0) \n",
    "CBData"
   ]
  },
  {
   "cell_type": "code",
   "execution_count": 12,
   "metadata": {},
   "outputs": [],
   "source": [
    "#Split Data into three parts by year\n",
    "LowerCBData = CBData[CBData['Location'] == 'Lower']\n",
    "CBData2012 = LowerCBData[LowerCBData['Year'] == 2012]\n",
    "CBData2013 = LowerCBData[LowerCBData['Year'] == 2013]\n",
    "CBData2014 = LowerCBData[LowerCBData['Year'] == 2014]\n",
    "\n",
    "import matplotlib.pyplot as plt\n",
    "boxplot = LowerCBData.boxplot(by='Year')\n",
    "plt.show()"
   ]
  },
  {
   "cell_type": "code",
   "execution_count": 11,
   "metadata": {},
   "outputs": [
    {
     "data": {
      "text/plain": [
       "F_onewayResult(statistic=array([134.45345659]), pvalue=array([1.62251198e-53]))"
      ]
     },
     "execution_count": 11,
     "metadata": {},
     "output_type": "execute_result"
    }
   ],
   "source": [
    "from scipy import stats\n",
    "import numpy as np\n",
    "\n",
    "stats.f_oneway(CBData2012[['TDP']], CBData2013[['TDP']], CBData2014[['TDP']])"
   ]
  },
  {
   "cell_type": "code",
   "execution_count": null,
   "metadata": {},
   "outputs": [],
   "source": [
    "All2012CB = CBData[CBData['Year'] == 2012]\n",
    "CBDataLower = All2012CB[All2012CB['Location'] == 'Lower']\n",
    "CBDataMiddle = All2012CB[All2012CB['Location'] == 'Middle']\n",
    "CBDataUpper = All2012CB[All2012CB['Location'] == 'Upper']\n",
    "\n",
    "import matplotlib.pyplot as plt\n",
    "boxplot = All2012CB.boxplot(by='Location')\n",
    "plt.show()\n",
    "\n",
    "stats.f_oneway(CBDataLower[['TDP']], CBDataMiddle[['TDP']], CBDataUpper[['TDP']])"
   ]
  },
  {
   "cell_type": "code",
   "execution_count": null,
   "metadata": {},
   "outputs": [],
   "source": []
  }
 ],
 "metadata": {
  "kernelspec": {
   "display_name": "ArcGISPro",
   "language": "Python",
   "name": "python3"
  },
  "language_info": {
   "file_extension": ".py",
   "name": "python",
   "version": "3"
  }
 },
 "nbformat": 4,
 "nbformat_minor": 2
}
