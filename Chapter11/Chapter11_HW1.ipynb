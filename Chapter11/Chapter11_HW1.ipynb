{
 "cells": [
  {
   "cell_type": "markdown",
   "metadata": {},
   "source": [
    "### This code just sets things up"
   ]
  },
  {
   "cell_type": "code",
   "execution_count": 119,
   "metadata": {},
   "outputs": [],
   "source": [
    "# Read Total Dissolved Phospherous Table\n",
    "import pandas as pd\n",
    "from scipy import stats\n",
    "import numpy as np\n",
    "import matplotlib.pyplot as plt"
   ]
  },
  {
   "cell_type": "code",
   "execution_count": 120,
   "metadata": {},
   "outputs": [],
   "source": [
    "#Note Don't run this cell if in ArcGIS Pro (or delete it)\n",
    "%matplotlib inline"
   ]
  },
  {
   "cell_type": "markdown",
   "metadata": {},
   "source": [
    "### This examines the differences in the three time periods (2012, 2013, 2014) for just the lower bay"
   ]
  },
  {
   "cell_type": "code",
   "execution_count": 121,
   "metadata": {},
   "outputs": [
    {
     "data": {
      "text/html": [
       "<div>\n",
       "<style scoped>\n",
       "    .dataframe tbody tr th:only-of-type {\n",
       "        vertical-align: middle;\n",
       "    }\n",
       "\n",
       "    .dataframe tbody tr th {\n",
       "        vertical-align: top;\n",
       "    }\n",
       "\n",
       "    .dataframe thead th {\n",
       "        text-align: right;\n",
       "    }\n",
       "</style>\n",
       "<table border=\"1\" class=\"dataframe\">\n",
       "  <thead>\n",
       "    <tr style=\"text-align: right;\">\n",
       "      <th></th>\n",
       "      <th>TDP</th>\n",
       "      <th>Year</th>\n",
       "      <th>Location</th>\n",
       "    </tr>\n",
       "  </thead>\n",
       "  <tbody>\n",
       "    <tr>\n",
       "      <td>0</td>\n",
       "      <td>0.031318</td>\n",
       "      <td>2012</td>\n",
       "      <td>Lower</td>\n",
       "    </tr>\n",
       "    <tr>\n",
       "      <td>1</td>\n",
       "      <td>0.014041</td>\n",
       "      <td>2012</td>\n",
       "      <td>Lower</td>\n",
       "    </tr>\n",
       "    <tr>\n",
       "      <td>2</td>\n",
       "      <td>0.012891</td>\n",
       "      <td>2012</td>\n",
       "      <td>Lower</td>\n",
       "    </tr>\n",
       "    <tr>\n",
       "      <td>3</td>\n",
       "      <td>0.000907</td>\n",
       "      <td>2012</td>\n",
       "      <td>Lower</td>\n",
       "    </tr>\n",
       "    <tr>\n",
       "      <td>4</td>\n",
       "      <td>0.026535</td>\n",
       "      <td>2012</td>\n",
       "      <td>Lower</td>\n",
       "    </tr>\n",
       "    <tr>\n",
       "      <td>...</td>\n",
       "      <td>...</td>\n",
       "      <td>...</td>\n",
       "      <td>...</td>\n",
       "    </tr>\n",
       "    <tr>\n",
       "      <td>1390</td>\n",
       "      <td>0.008554</td>\n",
       "      <td>2014</td>\n",
       "      <td>Lower</td>\n",
       "    </tr>\n",
       "    <tr>\n",
       "      <td>1391</td>\n",
       "      <td>0.001479</td>\n",
       "      <td>2014</td>\n",
       "      <td>Lower</td>\n",
       "    </tr>\n",
       "    <tr>\n",
       "      <td>1392</td>\n",
       "      <td>0.007442</td>\n",
       "      <td>2014</td>\n",
       "      <td>Lower</td>\n",
       "    </tr>\n",
       "    <tr>\n",
       "      <td>1393</td>\n",
       "      <td>0.004051</td>\n",
       "      <td>2014</td>\n",
       "      <td>Lower</td>\n",
       "    </tr>\n",
       "    <tr>\n",
       "      <td>1394</td>\n",
       "      <td>0.001290</td>\n",
       "      <td>2014</td>\n",
       "      <td>Lower</td>\n",
       "    </tr>\n",
       "  </tbody>\n",
       "</table>\n",
       "<p>1395 rows × 3 columns</p>\n",
       "</div>"
      ],
      "text/plain": [
       "           TDP  Year Location\n",
       "0     0.031318  2012    Lower\n",
       "1     0.014041  2012    Lower\n",
       "2     0.012891  2012    Lower\n",
       "3     0.000907  2012    Lower\n",
       "4     0.026535  2012    Lower\n",
       "...        ...   ...      ...\n",
       "1390  0.008554  2014    Lower\n",
       "1391  0.001479  2014    Lower\n",
       "1392  0.007442  2014    Lower\n",
       "1393  0.004051  2014    Lower\n",
       "1394  0.001290  2014    Lower\n",
       "\n",
       "[1395 rows x 3 columns]"
      ]
     },
     "execution_count": 121,
     "metadata": {},
     "output_type": "execute_result"
    }
   ],
   "source": [
    "CBData = pd.read_excel('Chapter11.xlsx', sheet_name=0) \n",
    "CBData"
   ]
  },
  {
   "cell_type": "code",
   "execution_count": 122,
   "metadata": {},
   "outputs": [
    {
     "data": {
      "image/png": "[encoded data removed]",
      "text/plain": [
       "<Figure size 432x288 with 1 Axes>"
      ]
     },
     "metadata": {
      "needs_background": "light"
     },
     "output_type": "display_data"
    }
   ],
   "source": [
    "#Split Data into three parts by year\n",
    "LowerCBData = CBData[CBData['Location'] == 'Lower']\n",
    "CBData2012 = LowerCBData[LowerCBData['Year'] == 2012]\n",
    "CBData2013 = LowerCBData[LowerCBData['Year'] == 2013]\n",
    "CBData2014 = LowerCBData[LowerCBData['Year'] == 2014]\n",
    "\n",
    "\n",
    "boxplot = LowerCBData.boxplot(by='Year')\n",
    "plt.show()"
   ]
  },
  {
   "cell_type": "code",
   "execution_count": 123,
   "metadata": {},
   "outputs": [
    {
     "data": {
      "text/html": [
       "<div>\n",
       "<style scoped>\n",
       "    .dataframe tbody tr th:only-of-type {\n",
       "        vertical-align: middle;\n",
       "    }\n",
       "\n",
       "    .dataframe tbody tr th {\n",
       "        vertical-align: top;\n",
       "    }\n",
       "\n",
       "    .dataframe thead tr th {\n",
       "        text-align: left;\n",
       "    }\n",
       "\n",
       "    .dataframe thead tr:last-of-type th {\n",
       "        text-align: right;\n",
       "    }\n",
       "</style>\n",
       "<table border=\"1\" class=\"dataframe\">\n",
       "  <thead>\n",
       "    <tr>\n",
       "      <th></th>\n",
       "      <th colspan=\"8\" halign=\"left\">TDP</th>\n",
       "    </tr>\n",
       "    <tr>\n",
       "      <th></th>\n",
       "      <th>count</th>\n",
       "      <th>mean</th>\n",
       "      <th>std</th>\n",
       "      <th>min</th>\n",
       "      <th>25%</th>\n",
       "      <th>50%</th>\n",
       "      <th>75%</th>\n",
       "      <th>max</th>\n",
       "    </tr>\n",
       "    <tr>\n",
       "      <th>Year</th>\n",
       "      <th></th>\n",
       "      <th></th>\n",
       "      <th></th>\n",
       "      <th></th>\n",
       "      <th></th>\n",
       "      <th></th>\n",
       "      <th></th>\n",
       "      <th></th>\n",
       "    </tr>\n",
       "  </thead>\n",
       "  <tbody>\n",
       "    <tr>\n",
       "      <td>2012</td>\n",
       "      <td>183.0</td>\n",
       "      <td>0.012101</td>\n",
       "      <td>0.006674</td>\n",
       "      <td>0.000028</td>\n",
       "      <td>0.007144</td>\n",
       "      <td>0.011879</td>\n",
       "      <td>0.016228</td>\n",
       "      <td>0.031342</td>\n",
       "    </tr>\n",
       "    <tr>\n",
       "      <td>2013</td>\n",
       "      <td>749.0</td>\n",
       "      <td>0.011962</td>\n",
       "      <td>0.007588</td>\n",
       "      <td>0.000020</td>\n",
       "      <td>0.005815</td>\n",
       "      <td>0.010954</td>\n",
       "      <td>0.017469</td>\n",
       "      <td>0.037173</td>\n",
       "    </tr>\n",
       "    <tr>\n",
       "      <td>2014</td>\n",
       "      <td>296.0</td>\n",
       "      <td>0.004818</td>\n",
       "      <td>0.002232</td>\n",
       "      <td>0.000145</td>\n",
       "      <td>0.003146</td>\n",
       "      <td>0.004727</td>\n",
       "      <td>0.006308</td>\n",
       "      <td>0.010923</td>\n",
       "    </tr>\n",
       "  </tbody>\n",
       "</table>\n",
       "</div>"
      ],
      "text/plain": [
       "        TDP                                                              \\\n",
       "      count      mean       std       min       25%       50%       75%   \n",
       "Year                                                                      \n",
       "2012  183.0  0.012101  0.006674  0.000028  0.007144  0.011879  0.016228   \n",
       "2013  749.0  0.011962  0.007588  0.000020  0.005815  0.010954  0.017469   \n",
       "2014  296.0  0.004818  0.002232  0.000145  0.003146  0.004727  0.006308   \n",
       "\n",
       "                \n",
       "           max  \n",
       "Year            \n",
       "2012  0.031342  \n",
       "2013  0.037173  \n",
       "2014  0.010923  "
      ]
     },
     "execution_count": 123,
     "metadata": {},
     "output_type": "execute_result"
    }
   ],
   "source": [
    "LowerCBData.groupby('Year').describe()"
   ]
  },
  {
   "cell_type": "code",
   "execution_count": 124,
   "metadata": {},
   "outputs": [
    {
     "data": {
      "text/plain": [
       "F_onewayResult(statistic=array([134.45345659]), pvalue=array([1.62251198e-53]))"
      ]
     },
     "execution_count": 124,
     "metadata": {},
     "output_type": "execute_result"
    }
   ],
   "source": [
    "stats.f_oneway(CBData2012[['TDP']], CBData2013[['TDP']], CBData2014[['TDP']])"
   ]
  },
  {
   "cell_type": "markdown",
   "metadata": {},
   "source": [
    "### This code looks at the 2012 differences in Location (Lower, Middle, Upper)"
   ]
  },
  {
   "cell_type": "code",
   "execution_count": 125,
   "metadata": {},
   "outputs": [
    {
     "data": {
      "image/png": "[encoded data removed]",
      "text/plain": [
       "<Figure size 432x288 with 1 Axes>"
      ]
     },
     "metadata": {
      "needs_background": "light"
     },
     "output_type": "display_data"
    }
   ],
   "source": [
    "All2012CB = CBData[CBData['Year'] == 2012]\n",
    "All2012CB = All2012CB[[\"TDP\", \"Location\"]]\n",
    "CBDataLower = All2012CB[All2012CB['Location'] == 'Lower']\n",
    "CBDataMiddle = All2012CB[All2012CB['Location'] == 'Middle']\n",
    "CBDataUpper = All2012CB[All2012CB['Location'] == 'Upper']\n",
    "\n",
    "boxplot = All2012CB[['TDP', 'Location']].boxplot(by='Location')\n",
    "plt.show()"
   ]
  },
  {
   "cell_type": "code",
   "execution_count": 126,
   "metadata": {},
   "outputs": [
    {
     "data": {
      "text/html": [
       "<div>\n",
       "<style scoped>\n",
       "    .dataframe tbody tr th:only-of-type {\n",
       "        vertical-align: middle;\n",
       "    }\n",
       "\n",
       "    .dataframe tbody tr th {\n",
       "        vertical-align: top;\n",
       "    }\n",
       "\n",
       "    .dataframe thead tr th {\n",
       "        text-align: left;\n",
       "    }\n",
       "\n",
       "    .dataframe thead tr:last-of-type th {\n",
       "        text-align: right;\n",
       "    }\n",
       "</style>\n",
       "<table border=\"1\" class=\"dataframe\">\n",
       "  <thead>\n",
       "    <tr>\n",
       "      <th></th>\n",
       "      <th colspan=\"8\" halign=\"left\">TDP</th>\n",
       "    </tr>\n",
       "    <tr>\n",
       "      <th></th>\n",
       "      <th>count</th>\n",
       "      <th>mean</th>\n",
       "      <th>std</th>\n",
       "      <th>min</th>\n",
       "      <th>25%</th>\n",
       "      <th>50%</th>\n",
       "      <th>75%</th>\n",
       "      <th>max</th>\n",
       "    </tr>\n",
       "    <tr>\n",
       "      <th>Location</th>\n",
       "      <th></th>\n",
       "      <th></th>\n",
       "      <th></th>\n",
       "      <th></th>\n",
       "      <th></th>\n",
       "      <th></th>\n",
       "      <th></th>\n",
       "      <th></th>\n",
       "    </tr>\n",
       "  </thead>\n",
       "  <tbody>\n",
       "    <tr>\n",
       "      <td>Lower</td>\n",
       "      <td>183.0</td>\n",
       "      <td>0.012101</td>\n",
       "      <td>0.006674</td>\n",
       "      <td>0.000028</td>\n",
       "      <td>0.007144</td>\n",
       "      <td>0.011879</td>\n",
       "      <td>0.016228</td>\n",
       "      <td>0.031342</td>\n",
       "    </tr>\n",
       "    <tr>\n",
       "      <td>Middle</td>\n",
       "      <td>129.0</td>\n",
       "      <td>0.013929</td>\n",
       "      <td>0.009801</td>\n",
       "      <td>0.000211</td>\n",
       "      <td>0.006416</td>\n",
       "      <td>0.012738</td>\n",
       "      <td>0.018134</td>\n",
       "      <td>0.048840</td>\n",
       "    </tr>\n",
       "    <tr>\n",
       "      <td>Upper</td>\n",
       "      <td>38.0</td>\n",
       "      <td>0.010960</td>\n",
       "      <td>0.007547</td>\n",
       "      <td>0.000249</td>\n",
       "      <td>0.004224</td>\n",
       "      <td>0.010486</td>\n",
       "      <td>0.015109</td>\n",
       "      <td>0.028222</td>\n",
       "    </tr>\n",
       "  </tbody>\n",
       "</table>\n",
       "</div>"
      ],
      "text/plain": [
       "            TDP                                                              \\\n",
       "          count      mean       std       min       25%       50%       75%   \n",
       "Location                                                                      \n",
       "Lower     183.0  0.012101  0.006674  0.000028  0.007144  0.011879  0.016228   \n",
       "Middle    129.0  0.013929  0.009801  0.000211  0.006416  0.012738  0.018134   \n",
       "Upper      38.0  0.010960  0.007547  0.000249  0.004224  0.010486  0.015109   \n",
       "\n",
       "                    \n",
       "               max  \n",
       "Location            \n",
       "Lower     0.031342  \n",
       "Middle    0.048840  \n",
       "Upper     0.028222  "
      ]
     },
     "execution_count": 126,
     "metadata": {},
     "output_type": "execute_result"
    }
   ],
   "source": [
    "All2012CB.groupby('Location').describe()"
   ]
  },
  {
   "cell_type": "code",
   "execution_count": 127,
   "metadata": {},
   "outputs": [
    {
     "data": {
      "text/plain": [
       "F_onewayResult(statistic=array([2.88867932]), pvalue=array([0.05698909]))"
      ]
     },
     "execution_count": 127,
     "metadata": {},
     "output_type": "execute_result"
    }
   ],
   "source": [
    "stats.f_oneway(CBDataLower[['TDP']], CBDataMiddle[['TDP']], CBDataUpper[['TDP']])"
   ]
  },
  {
   "cell_type": "code",
   "execution_count": 128,
   "metadata": {},
   "outputs": [
    {
     "data": {
      "text/plain": [
       "KruskalResult(statistic=2.6252642719196944, pvalue=0.26911078716758746)"
      ]
     },
     "execution_count": 128,
     "metadata": {},
     "output_type": "execute_result"
    }
   ],
   "source": [
    "stats.kruskal(CBDataLower[['TDP']], CBDataMiddle[['TDP']], CBDataUpper[['TDP']])"
   ]
  }
 ],
 "metadata": {
  "kernelspec": {
   "display_name": "Python 3",
   "language": "python",
   "name": "python3"
  },
  "language_info": {
   "codemirror_mode": {
    "name": "ipython",
    "version": 3
   },
   "file_extension": ".py",
   "mimetype": "text/x-python",
   "name": "python",
   "nbconvert_exporter": "python",
   "pygments_lexer": "ipython3",
   "version": "3.6.9"
  }
 },
 "nbformat": 4,
 "nbformat_minor": 2
}
