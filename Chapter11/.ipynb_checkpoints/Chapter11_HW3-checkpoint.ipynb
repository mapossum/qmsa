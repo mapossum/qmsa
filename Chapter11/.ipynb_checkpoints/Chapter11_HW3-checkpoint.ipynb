{
 "cells": [
  {
   "cell_type": "code",
   "execution_count": 10,
   "metadata": {},
   "outputs": [],
   "source": [
    "# Read Student Learning Method Table\n",
    "import pandas as pd\n",
    "from scipy import stats\n",
    "import numpy as np\n",
    "import matplotlib.pyplot as plt"
   ]
  },
  {
   "cell_type": "code",
   "execution_count": 11,
   "metadata": {},
   "outputs": [],
   "source": [
    "#Note Don't run this cell if in ArcGIS Pro (or delete it)\n",
    "%matplotlib inline"
   ]
  },
  {
   "cell_type": "code",
   "execution_count": 12,
   "metadata": {},
   "outputs": [
    {
     "data": {
      "text/html": [
       "<div>\n",
       "<style scoped>\n",
       "    .dataframe tbody tr th:only-of-type {\n",
       "        vertical-align: middle;\n",
       "    }\n",
       "\n",
       "    .dataframe tbody tr th {\n",
       "        vertical-align: top;\n",
       "    }\n",
       "\n",
       "    .dataframe thead th {\n",
       "        text-align: right;\n",
       "    }\n",
       "</style>\n",
       "<table border=\"1\" class=\"dataframe\">\n",
       "  <thead>\n",
       "    <tr style=\"text-align: right;\">\n",
       "      <th></th>\n",
       "      <th>Student_ID</th>\n",
       "      <th>Delivery Method</th>\n",
       "      <th>Score_Rank</th>\n",
       "    </tr>\n",
       "  </thead>\n",
       "  <tbody>\n",
       "    <tr>\n",
       "      <td>0</td>\n",
       "      <td>15651651</td>\n",
       "      <td>BLENDED</td>\n",
       "      <td>1</td>\n",
       "    </tr>\n",
       "    <tr>\n",
       "      <td>1</td>\n",
       "      <td>15651658</td>\n",
       "      <td>BLENDED</td>\n",
       "      <td>8</td>\n",
       "    </tr>\n",
       "    <tr>\n",
       "      <td>2</td>\n",
       "      <td>15651659</td>\n",
       "      <td>BLENDED</td>\n",
       "      <td>9</td>\n",
       "    </tr>\n",
       "    <tr>\n",
       "      <td>3</td>\n",
       "      <td>15651671</td>\n",
       "      <td>BLENDED</td>\n",
       "      <td>21</td>\n",
       "    </tr>\n",
       "    <tr>\n",
       "      <td>4</td>\n",
       "      <td>15651673</td>\n",
       "      <td>BLENDED</td>\n",
       "      <td>23</td>\n",
       "    </tr>\n",
       "    <tr>\n",
       "      <td>...</td>\n",
       "      <td>...</td>\n",
       "      <td>...</td>\n",
       "      <td>...</td>\n",
       "    </tr>\n",
       "    <tr>\n",
       "      <td>214</td>\n",
       "      <td>15651852</td>\n",
       "      <td>ONLINE</td>\n",
       "      <td>202</td>\n",
       "    </tr>\n",
       "    <tr>\n",
       "      <td>215</td>\n",
       "      <td>15651856</td>\n",
       "      <td>ONLINE</td>\n",
       "      <td>206</td>\n",
       "    </tr>\n",
       "    <tr>\n",
       "      <td>216</td>\n",
       "      <td>15651857</td>\n",
       "      <td>ONLINE</td>\n",
       "      <td>207</td>\n",
       "    </tr>\n",
       "    <tr>\n",
       "      <td>217</td>\n",
       "      <td>15651861</td>\n",
       "      <td>ONLINE</td>\n",
       "      <td>211</td>\n",
       "    </tr>\n",
       "    <tr>\n",
       "      <td>218</td>\n",
       "      <td>15651866</td>\n",
       "      <td>ONLINE</td>\n",
       "      <td>216</td>\n",
       "    </tr>\n",
       "  </tbody>\n",
       "</table>\n",
       "<p>219 rows × 3 columns</p>\n",
       "</div>"
      ],
      "text/plain": [
       "     Student_ID Delivery Method  Score_Rank\n",
       "0      15651651         BLENDED           1\n",
       "1      15651658         BLENDED           8\n",
       "2      15651659         BLENDED           9\n",
       "3      15651671         BLENDED          21\n",
       "4      15651673         BLENDED          23\n",
       "..          ...             ...         ...\n",
       "214    15651852          ONLINE         202\n",
       "215    15651856          ONLINE         206\n",
       "216    15651857          ONLINE         207\n",
       "217    15651861          ONLINE         211\n",
       "218    15651866          ONLINE         216\n",
       "\n",
       "[219 rows x 3 columns]"
      ]
     },
     "execution_count": 12,
     "metadata": {},
     "output_type": "execute_result"
    }
   ],
   "source": [
    "LearningData = pd.read_excel('Chapter11.xlsx', sheet_name=4) \n",
    "LearningData"
   ]
  },
  {
   "cell_type": "code",
   "execution_count": 13,
   "metadata": {},
   "outputs": [
    {
     "data": {
      "image/png": "[encoded data removed]",
      "text/plain": [
       "<Figure size 432x288 with 1 Axes>"
      ]
     },
     "metadata": {
      "needs_background": "light"
     },
     "output_type": "display_data"
    }
   ],
   "source": [
    "boxplot = LearningData[['Delivery Method', \"Score_Rank\"]].boxplot(by='Delivery Method')\n",
    "plt.show()"
   ]
  },
  {
   "cell_type": "code",
   "execution_count": 14,
   "metadata": {},
   "outputs": [
    {
     "data": {
      "text/html": [
       "<div>\n",
       "<style scoped>\n",
       "    .dataframe tbody tr th:only-of-type {\n",
       "        vertical-align: middle;\n",
       "    }\n",
       "\n",
       "    .dataframe tbody tr th {\n",
       "        vertical-align: top;\n",
       "    }\n",
       "\n",
       "    .dataframe thead tr th {\n",
       "        text-align: left;\n",
       "    }\n",
       "\n",
       "    .dataframe thead tr:last-of-type th {\n",
       "        text-align: right;\n",
       "    }\n",
       "</style>\n",
       "<table border=\"1\" class=\"dataframe\">\n",
       "  <thead>\n",
       "    <tr>\n",
       "      <th></th>\n",
       "      <th colspan=\"8\" halign=\"left\">Score_Rank</th>\n",
       "    </tr>\n",
       "    <tr>\n",
       "      <th></th>\n",
       "      <th>count</th>\n",
       "      <th>mean</th>\n",
       "      <th>std</th>\n",
       "      <th>min</th>\n",
       "      <th>25%</th>\n",
       "      <th>50%</th>\n",
       "      <th>75%</th>\n",
       "      <th>max</th>\n",
       "    </tr>\n",
       "    <tr>\n",
       "      <th>Delivery Method</th>\n",
       "      <th></th>\n",
       "      <th></th>\n",
       "      <th></th>\n",
       "      <th></th>\n",
       "      <th></th>\n",
       "      <th></th>\n",
       "      <th></th>\n",
       "      <th></th>\n",
       "    </tr>\n",
       "  </thead>\n",
       "  <tbody>\n",
       "    <tr>\n",
       "      <td>BLENDED</td>\n",
       "      <td>27.0</td>\n",
       "      <td>94.185185</td>\n",
       "      <td>70.037922</td>\n",
       "      <td>1.0</td>\n",
       "      <td>37.00</td>\n",
       "      <td>81.0</td>\n",
       "      <td>158.00</td>\n",
       "      <td>219.0</td>\n",
       "    </tr>\n",
       "    <tr>\n",
       "      <td>FACE2FACE</td>\n",
       "      <td>128.0</td>\n",
       "      <td>115.882812</td>\n",
       "      <td>61.234366</td>\n",
       "      <td>2.0</td>\n",
       "      <td>61.75</td>\n",
       "      <td>121.0</td>\n",
       "      <td>165.25</td>\n",
       "      <td>218.0</td>\n",
       "    </tr>\n",
       "    <tr>\n",
       "      <td>ONLINE</td>\n",
       "      <td>64.0</td>\n",
       "      <td>104.906250</td>\n",
       "      <td>64.078751</td>\n",
       "      <td>3.0</td>\n",
       "      <td>56.75</td>\n",
       "      <td>96.5</td>\n",
       "      <td>160.00</td>\n",
       "      <td>216.0</td>\n",
       "    </tr>\n",
       "  </tbody>\n",
       "</table>\n",
       "</div>"
      ],
      "text/plain": [
       "                Score_Rank                                                    \\\n",
       "                     count        mean        std  min    25%    50%     75%   \n",
       "Delivery Method                                                                \n",
       "BLENDED               27.0   94.185185  70.037922  1.0  37.00   81.0  158.00   \n",
       "FACE2FACE            128.0  115.882812  61.234366  2.0  61.75  121.0  165.25   \n",
       "ONLINE                64.0  104.906250  64.078751  3.0  56.75   96.5  160.00   \n",
       "\n",
       "                        \n",
       "                   max  \n",
       "Delivery Method         \n",
       "BLENDED          219.0  \n",
       "FACE2FACE        218.0  \n",
       "ONLINE           216.0  "
      ]
     },
     "execution_count": 14,
     "metadata": {},
     "output_type": "execute_result"
    }
   ],
   "source": [
    "LearningData[['Delivery Method', \"Score_Rank\"]].groupby('Delivery Method').describe()"
   ]
  },
  {
   "cell_type": "code",
   "execution_count": 15,
   "metadata": {},
   "outputs": [
    {
     "data": {
      "text/plain": [
       "KruskalResult(statistic=3.1988159996078593, pvalue=0.20201607615863074)"
      ]
     },
     "execution_count": 15,
     "metadata": {},
     "output_type": "execute_result"
    }
   ],
   "source": [
    "DataBLENDED = LearningData[LearningData['Delivery Method'] == 'BLENDED']\n",
    "DataFACE2FACE = LearningData[LearningData['Delivery Method'] == 'FACE2FACE']\n",
    "DataONLINE = LearningData[LearningData['Delivery Method'] == 'ONLINE']\n",
    "\n",
    "stats.kruskal(DataBLENDED[['Score_Rank']], DataFACE2FACE[['Score_Rank']], DataONLINE[['Score_Rank']])"
   ]
  }
 ],
 "metadata": {
  "kernelspec": {
   "display_name": "Python 3",
   "language": "python",
   "name": "python3"
  },
  "language_info": {
   "codemirror_mode": {
    "name": "ipython",
    "version": 3
   },
   "file_extension": ".py",
   "mimetype": "text/x-python",
   "name": "python",
   "nbconvert_exporter": "python",
   "pygments_lexer": "ipython3",
   "version": "3.6.9"
  }
 },
 "nbformat": 4,
 "nbformat_minor": 2
}
